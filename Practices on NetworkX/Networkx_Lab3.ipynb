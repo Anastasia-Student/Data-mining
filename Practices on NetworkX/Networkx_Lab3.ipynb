{
  "cells": [
    {
      "cell_type": "code",
      "execution_count": null,
      "metadata": {
        "id": "7goiBjMhPLIW"
      },
      "outputs": [],
      "source": [
        "import networkx as nx\n",
        "import numpy as np\n",
        "import random\n",
        "import matplotlib.pyplot as plt"
      ]
    },
    {
      "cell_type": "code",
      "execution_count": null,
      "metadata": {
        "id": "jICxI0DPVZHP"
      },
      "outputs": [],
      "source": [
        "def o_or_t_a(prob):\n",
        "    if 0.6 <= prob:\n",
        "        return 1\n",
        "    else:\n",
        "        return 3"
      ]
    },
    {
      "cell_type": "code",
      "execution_count": null,
      "metadata": {
        "id": "L8TLfQSaYHvn"
      },
      "outputs": [],
      "source": [
        "final_a = []"
      ]
    },
    {
      "cell_type": "code",
      "execution_count": null,
      "metadata": {
        "id": "_z__PRfRVZAW"
      },
      "outputs": [],
      "source": [
        "for step in range(101):\n",
        "    lst = []\n",
        "    prob = step / 100\n",
        "    \n",
        "    for i in range(10000):\n",
        "        res = o_or_t_a(prob)\n",
        "        lst.append(res)\n",
        "        \n",
        "    G = nx.configuration_model(lst) # returns a random graph with the given degree sequence\n",
        "    G = nx.Graph(G)\n",
        "    G.remove_edges_from(nx.selfloop_edges(G)) # remove selfloops\n",
        "\n",
        "    Gcc = sorted(nx.connected_components(G), key=len, reverse=True)\n",
        "    G0 = G.subgraph(Gcc[0])\n",
        "    \n",
        "    final_a.append(len(G0.nodes()))"
      ]
    },
    {
      "cell_type": "code",
      "execution_count": null,
      "metadata": {
        "colab": {
          "base_uri": "https://localhost:8080/"
        },
        "id": "8kurxElgVYvk",
        "outputId": "46a83c21-fb81-4716-c385-b9490356c4af"
      },
      "outputs": [
        {
          "output_type": "stream",
          "name": "stdout",
          "text": [
            "[10000, 10000, 10000, 10000, 10000, 10000, 10000, 10000, 10000, 10000, 10000, 10000, 10000, 10000, 10000, 10000, 10000, 10000, 10000, 10000, 10000, 10000, 10000, 10000, 10000, 10000, 10000, 10000, 10000, 10000, 10000, 10000, 10000, 10000, 10000, 10000, 10000, 10000, 10000, 10000, 10000, 10000, 10000, 10000, 10000, 10000, 10000, 10000, 10000, 10000, 10000, 10000, 10000, 10000, 10000, 10000, 10000, 10000, 10000, 10000, 2, 2, 2, 2, 2, 2, 2, 2, 2, 2, 2, 2, 2, 2, 2, 2, 2, 2, 2, 2, 2, 2, 2, 2, 2, 2, 2, 2, 2, 2, 2, 2, 2, 2, 2, 2, 2, 2, 2, 2, 2]\n"
          ]
        }
      ],
      "source": [
        "print(final_a)"
      ]
    },
    {
      "cell_type": "code",
      "execution_count": null,
      "metadata": {
        "colab": {
          "base_uri": "https://localhost:8080/",
          "height": 265
        },
        "id": "_r0stHtfYSkn",
        "outputId": "0c3d4cbe-e737-4bda-8d20-64e5d0c133e5"
      },
      "outputs": [
        {
          "output_type": "display_data",
          "data": {
            "text/plain": [
              "<Figure size 432x288 with 1 Axes>"
            ],
            "image/png": "[encoded data removed]"
          },
          "metadata": {
            "needs_background": "light"
          }
        }
      ],
      "source": [
        "plt.plot(final_a)\n",
        "plt.show()"
      ]
    },
    {
      "cell_type": "code",
      "execution_count": null,
      "metadata": {
        "id": "FTEmXRDePZsd"
      },
      "outputs": [],
      "source": [
        "def o_or_t_b(prob):\n",
        "    if random.random() <= prob:\n",
        "        return 1\n",
        "    else:\n",
        "        return 3"
      ]
    },
    {
      "cell_type": "code",
      "execution_count": null,
      "metadata": {
        "id": "bPjDutH0PZpL"
      },
      "outputs": [],
      "source": [
        "final_b = []"
      ]
    },
    {
      "cell_type": "code",
      "execution_count": null,
      "metadata": {
        "id": "M3QZKpQYPZmP"
      },
      "outputs": [],
      "source": [
        "for step in range(101):\n",
        "    lst = []\n",
        "    prob = step / 100\n",
        "    \n",
        "    for i in range(10000):\n",
        "        res = o_or_t_b(prob)\n",
        "        lst.append(res)\n",
        "        \n",
        "    G = nx.configuration_model(lst) # returns a random graph with the given degree sequence\n",
        "    G = nx.Graph(G)\n",
        "    G.remove_edges_from(nx.selfloop_edges(G)) # remove selfloops\n",
        "\n",
        "    Gcc = sorted(nx.connected_components(G), key=len, reverse=True)\n",
        "    G0 = G.subgraph(Gcc[0])\n",
        "    \n",
        "    final_b.append(len(G0.nodes()))"
      ]
    },
    {
      "cell_type": "code",
      "execution_count": null,
      "metadata": {
        "colab": {
          "base_uri": "https://localhost:8080/"
        },
        "id": "eCgkrb3lPZit",
        "outputId": "b6b985c1-6b3c-427e-e095-8161e61472ed"
      },
      "outputs": [
        {
          "output_type": "stream",
          "name": "stdout",
          "text": [
            "[10000, 10000, 9996, 9996, 9988, 9988, 9978, 9976, 9986, 9976, 9964, 9950, 9958, 9922, 9932, 9890, 9896, 9878, 9878, 9852, 9812, 9856, 9792, 9780, 9732, 9686, 9692, 9654, 9644, 9556, 9558, 9536, 9526, 9406, 9386, 9266, 9312, 9252, 9146, 9140, 9066, 8974, 8878, 8862, 8758, 8700, 8602, 8520, 8378, 8362, 8256, 8004, 7944, 7706, 7656, 7464, 7184, 7126, 7080, 6870, 6868, 6276, 5996, 5720, 5336, 5020, 4842, 4446, 4194, 2962, 3322, 2228, 1534, 924, 444, 970, 370, 100, 152, 170, 74, 72, 102, 86, 50, 36, 20, 34, 26, 48, 28, 20, 16, 14, 14, 12, 10, 8, 8, 6, 2]\n"
          ]
        }
      ],
      "source": [
        "print(final_b)"
      ]
    },
    {
      "cell_type": "code",
      "execution_count": null,
      "metadata": {
        "colab": {
          "base_uri": "https://localhost:8080/",
          "height": 265
        },
        "id": "m3J-WiEnT0XP",
        "outputId": "38cc12a0-85b7-4486-c309-f5f9d989aa6b"
      },
      "outputs": [
        {
          "output_type": "display_data",
          "data": {
            "text/plain": [
              "<Figure size 432x288 with 1 Axes>"
            ],
            "image/png": "[encoded data removed]"
          },
          "metadata": {
            "needs_background": "light"
          }
        }
      ],
      "source": [
        "plt.plot(final_b)\n",
        "plt.show()"
      ]
    },
    {
      "cell_type": "code",
      "execution_count": null,
      "metadata": {
        "id": "lMJWAfpxLhsf"
      },
      "outputs": [],
      "source": [
        "def o_or_t_bb(prob):\n",
        "    if random.random() > prob:\n",
        "        return 1\n",
        "    else:\n",
        "        return 3"
      ]
    },
    {
      "cell_type": "code",
      "execution_count": null,
      "metadata": {
        "id": "CnJW-WFzLhkL"
      },
      "outputs": [],
      "source": [
        "final_bb = []"
      ]
    },
    {
      "cell_type": "code",
      "execution_count": null,
      "metadata": {
        "id": "tRDbFwiiLhdC"
      },
      "outputs": [],
      "source": [
        "for step in range(101):\n",
        "    lst = []\n",
        "    prob = step / 100\n",
        "    \n",
        "    for i in range(10000):\n",
        "        res = o_or_t_bb(prob)\n",
        "        lst.append(res)\n",
        "        \n",
        "    G = nx.configuration_model(lst) # returns a random graph with the given degree sequence\n",
        "    G = nx.Graph(G)\n",
        "    G.remove_edges_from(nx.selfloop_edges(G)) # remove selfloops\n",
        "\n",
        "    Gcc = sorted(nx.connected_components(G), key=len, reverse=True)\n",
        "    G0 = G.subgraph(Gcc[0])\n",
        "    \n",
        "    final_bb.append(len(G0.nodes()))"
      ]
    },
    {
      "cell_type": "code",
      "execution_count": null,
      "metadata": {
        "colab": {
          "base_uri": "https://localhost:8080/",
          "height": 265
        },
        "id": "E423Y2dgLr0D",
        "outputId": "e8e2998d-70f2-4b24-cd50-c42787986f29"
      },
      "outputs": [
        {
          "output_type": "display_data",
          "data": {
            "text/plain": [
              "<Figure size 432x288 with 1 Axes>"
            ],
            "image/png": "[encoded data removed]"
          },
          "metadata": {
            "needs_background": "light"
          }
        }
      ],
      "source": [
        "plt.plot(final_bb)\n",
        "plt.show()"
      ]
    },
    {
      "cell_type": "code",
      "execution_count": null,
      "metadata": {
        "id": "rl3DIAyNZTi4"
      },
      "outputs": [],
      "source": [
        "def o_or_t_c(prob):\n",
        "  rand = random.random()\n",
        "  if rand <= prob/4:\n",
        "    return 1\n",
        "  elif prob/4 < rand <= 2*prob/4:\n",
        "    return 2\n",
        "  elif rand >= 3*prob/4:\n",
        "    return 4\n",
        "  else:\n",
        "    return 3"
      ]
    },
    {
      "cell_type": "code",
      "execution_count": null,
      "metadata": {
        "id": "QhvNtx2uaPjD"
      },
      "outputs": [],
      "source": [
        "final_c = []"
      ]
    },
    {
      "cell_type": "code",
      "execution_count": null,
      "metadata": {
        "id": "ZC9OpkvpZTZ5"
      },
      "outputs": [],
      "source": [
        "for step in range(101):\n",
        "    lst = []\n",
        "    prob = step / 100\n",
        "    \n",
        "    for i in range(10000):\n",
        "        res = o_or_t_c(prob)\n",
        "        lst.append(res)\n",
        "    \n",
        "    if sum(lst) % 2 != 0: \n",
        "      lst[0] -= 1\n",
        "      #msg = \"Invalid degree sequence: sum of degrees must be even, not odd\"  \n",
        "      #raise nx.NetworkXError(msg)\n",
        "    #print(lst)\n",
        "\n",
        "    G = nx.configuration_model(lst) # returns a random graph with the given degree sequence\n",
        "    G = nx.Graph(G)\n",
        "    G.remove_edges_from(nx.selfloop_edges(G)) # remove selfloops\n",
        "\n",
        "    Gcc = sorted(nx.connected_components(G), key=len, reverse=True)\n",
        "    G0 = G.subgraph(Gcc[0])\n",
        "    \n",
        "    final_c.append(len(G0.nodes()))"
      ]
    },
    {
      "cell_type": "code",
      "source": [
        "plt.plot(final_c)\n",
        "plt.show()"
      ],
      "metadata": {
        "colab": {
          "base_uri": "https://localhost:8080/",
          "height": 265
        },
        "id": "gHLdUlx6gcOb",
        "outputId": "c6052c87-d123-477e-fa7d-63ab728e226d"
      },
      "execution_count": null,
      "outputs": [
        {
          "output_type": "display_data",
          "data": {
            "text/plain": [
              "<Figure size 432x288 with 1 Axes>"
            ],
            "image/png": "[encoded data removed]"
          },
          "metadata": {
            "needs_background": "light"
          }
        }
      ]
    }
  ],
  "metadata": {
    "colab": {
      "provenance": []
    },
    "kernelspec": {
      "display_name": "Python 3",
      "name": "python3"
    },
    "language_info": {
      "name": "python"
    }
  },
  "nbformat": 4,
  "nbformat_minor": 0
}