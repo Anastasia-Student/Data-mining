{
  "cells": [
    {
      "cell_type": "code",
      "execution_count": null,
      "metadata": {
        "id": "ZWy97LGRrsRp"
      },
      "outputs": [],
      "source": [
        "import networkx as nx\n",
        "import random\n",
        "import matplotlib.pyplot as plt"
      ]
    },
    {
      "cell_type": "code",
      "execution_count": null,
      "metadata": {
        "id": "ZBxOL6gh9oYP"
      },
      "outputs": [],
      "source": [
        "# Generate random Poisson network G(n,m)\n",
        "n = 400\n",
        "m = 600\n",
        "G = nx.dense_gnm_random_graph(n, m, seed=None)"
      ]
    },
    {
      "cell_type": "code",
      "execution_count": null,
      "metadata": {
        "id": "AM2m04bB9yx9"
      },
      "outputs": [],
      "source": [
        "# Add to nodes of G the attribute: status (S, I, R) \n",
        "for i in range(n):\n",
        "    G.nodes[i]['status'] = 'S'\n",
        "\n",
        "# Randomly select start node, initialise time and three counters\n",
        "start = random.randint(0, n-1)\n",
        "G.nodes[start]['status'] = 'I'\n",
        "\n",
        "\n",
        "time = 0\n",
        "S = [n-1]\n",
        "I = [1]\n",
        "R = [0]\n",
        "T = 100"
      ]
    },
    {
      "cell_type": "code",
      "execution_count": null,
      "metadata": {
        "id": "JQDSj5hS-XYs"
      },
      "outputs": [],
      "source": [
        "def foo(prob):\n",
        "    if random.random() < prob:\n",
        "        return 0\n",
        "    else:\n",
        "        return 1"
      ]
    },
    {
      "cell_type": "code",
      "execution_count": null,
      "metadata": {
        "id": "wx4MQIaZ9yr8"
      },
      "outputs": [],
      "source": [
        "# Do loop: for time in range (1, T)\n",
        "for time in range(1, T):\n",
        "    # 0. Select from nodes infected ones and put into separate list\n",
        "    infected_at_t = []\n",
        "    for i in range(n):\n",
        "        if G.nodes[i]['status'] == 'I':\n",
        "            infected_at_t.append(i)\n",
        "    # 1. Do loop over infected nodes and infect their neighbors with\n",
        "    #    certain prob,\n",
        "    #    when doing this change status of\n",
        "    #    infected to recovered\n",
        "\n",
        "    for j in infected_at_t:\n",
        "        neighbors_of_j = G.adj[j]\n",
        "        #print(neighbors_of_j, type(neighbors_of_j))\n",
        "\n",
        "        for k in neighbors_of_j:\n",
        "            \n",
        "            if foo(0.4):\n",
        "                if G._node[k]['status'] == 'S':\n",
        "                    G._node[k]['status'] = 'I'\n",
        "                \n",
        "    for j in infected_at_t:\n",
        "        G._node[j]['status'] = 'R'        \n",
        "        \n",
        "\n",
        "     #      2. Calculate number of S, I, R\n",
        "    St = 0\n",
        "    It = 0\n",
        "    Rt = 0\n",
        "    for n in G.nodes():\n",
        "        if G._node[n]['status'] == 'I':\n",
        "            It += 1\n",
        "        elif G._node[n]['status'] == 'R':\n",
        "            Rt += 1\n",
        "        elif G._node[n]['status'] == 'S':\n",
        "            St += 1\n",
        "\n",
        "    S.append(St)\n",
        "    I.append(It)\n",
        "    R.append(Rt)"
      ]
    },
    {
      "cell_type": "code",
      "execution_count": null,
      "metadata": {
        "colab": {
          "base_uri": "https://localhost:8080/",
          "height": 320
        },
        "id": "ylX1PJ399ykc",
        "outputId": "764de4b5-208c-4ca5-90c4-9fd5edf8c5aa"
      },
      "outputs": [
        {
          "data": {
            "image/png": "[encoded data removed]",
            "text/plain": [
              "<Figure size 360x360 with 1 Axes>"
            ]
          },
          "metadata": {
            "needs_background": "light"
          },
          "output_type": "display_data"
        }
      ],
      "source": [
        "# Draw time series for S, I, R\n",
        "fig, ax = plt.subplots()\n",
        "\n",
        "ax.plot(S, label = 'S')\n",
        "ax.plot(I, label = 'I')\n",
        "ax.plot(R, label = 'R')\n",
        "ax.legend(fontsize = 15,\n",
        "          ncol = 2,\n",
        "          facecolor = 'oldlace',\n",
        "          edgecolor = 'r',\n",
        "          title_fontsize = '10'\n",
        ")\n",
        "fig.set_figwidth(5)\n",
        "fig.set_figheight(5)\n",
        "\n",
        "plt.show()"
      ]
    },
    {
      "cell_type": "code",
      "execution_count": null,
      "metadata": {
        "id": "sY41cLoLr2uQ"
      },
      "outputs": [],
      "source": [
        "# Generate random Poisson network G(n,m)\n",
        "n = 2000\n",
        "m = 5000\n",
        "G = nx.dense_gnm_random_graph(n, m, seed=None)"
      ]
    },
    {
      "cell_type": "code",
      "execution_count": null,
      "metadata": {
        "id": "es-6oJSPzn_K"
      },
      "outputs": [],
      "source": [
        "# Add to nodes of G the attribute: status (S, I, R) \n",
        "for i in range(n):\n",
        "    G.nodes[i]['status'] = 'S'"
      ]
    },
    {
      "cell_type": "code",
      "execution_count": null,
      "metadata": {
        "id": "yafKZP1jzn-f"
      },
      "outputs": [],
      "source": [
        "# Randomly select start node, initialise time and three counters\n",
        "start = random.randint(0, n-1)\n",
        "G.nodes[start]['status'] = 'I'"
      ]
    },
    {
      "cell_type": "code",
      "execution_count": null,
      "metadata": {
        "id": "sXNwDBQwzn70"
      },
      "outputs": [],
      "source": [
        "time = 0\n",
        "S = [n-1]\n",
        "I = [1]\n",
        "R = [0]\n",
        "T = 100"
      ]
    },
    {
      "cell_type": "code",
      "execution_count": null,
      "metadata": {
        "id": "z6FGYrDH2Juj"
      },
      "outputs": [],
      "source": [
        "# Do loop: for time in range (1, T)\n",
        "for time in range(1, T):\n",
        "    # 0. Select from nodes infected ones and put into separate list\n",
        "    infected_at_t = []\n",
        "    for i in range(n):\n",
        "        if G.nodes[i]['status'] == 'I':\n",
        "            infected_at_t.append(i)\n",
        "    # 1. Do loop over infected nodes and infect their neighbors with\n",
        "    #    certain prob,\n",
        "    #    when doing this change status of\n",
        "    #    infected to recovered\n",
        "\n",
        "    for j in infected_at_t:\n",
        "        neighbors_of_j = G.adj[j]\n",
        "        #print(neighbors_of_j, type(neighbors_of_j))\n",
        "\n",
        "        for k in neighbors_of_j:\n",
        "            \n",
        "            if foo(0.4):\n",
        "                if G._node[k]['status'] == 'S':\n",
        "                    G._node[k]['status'] = 'I'\n",
        "                \n",
        "    for j in infected_at_t:\n",
        "        G._node[j]['status'] = 'R'        \n",
        "        \n",
        "\n",
        "     #      2. Calculate number of S, I, R\n",
        "    St = 0\n",
        "    It = 0\n",
        "    Rt = 0\n",
        "    for n in G.nodes():\n",
        "        if G._node[n]['status'] == 'I':\n",
        "            It += 1\n",
        "        elif G._node[n]['status'] == 'R':\n",
        "            Rt += 1\n",
        "        elif G._node[n]['status'] == 'S':\n",
        "            St += 1\n",
        "\n",
        "    S.append(St)\n",
        "    I.append(It)\n",
        "    R.append(Rt)"
      ]
    },
    {
      "cell_type": "code",
      "execution_count": null,
      "metadata": {
        "colab": {
          "base_uri": "https://localhost:8080/",
          "height": 320
        },
        "id": "htJe74na2K1a",
        "outputId": "0389de50-4f36-4b6c-d1f2-b557f01d7c7f"
      },
      "outputs": [
        {
          "data": {
            "image/png": "[encoded data removed]",
            "text/plain": [
              "<Figure size 360x360 with 1 Axes>"
            ]
          },
          "metadata": {
            "needs_background": "light"
          },
          "output_type": "display_data"
        }
      ],
      "source": [
        "# Draw time series for S, I, R\n",
        "fig, ax = plt.subplots()\n",
        "\n",
        "ax.plot(S, label = 'S')\n",
        "ax.plot(I, label = 'I')\n",
        "ax.plot(R, label = 'R')\n",
        "ax.legend(fontsize = 15,\n",
        "          ncol = 2,\n",
        "          facecolor = 'oldlace',\n",
        "          edgecolor = 'r',\n",
        "          title_fontsize = '10'\n",
        ")\n",
        "fig.set_figwidth(5)\n",
        "fig.set_figheight(5)\n",
        "\n",
        "plt.show()"
      ]
    },
    {
      "cell_type": "code",
      "execution_count": null,
      "metadata": {
        "id": "SnIT_vJM2Kxm"
      },
      "outputs": [],
      "source": [
        "# Generate random Poisson network G(n,m)\n",
        "n = 10000\n",
        "m = 40000\n",
        "G = nx.dense_gnm_random_graph(n, m, seed=None)"
      ]
    },
    {
      "cell_type": "code",
      "execution_count": null,
      "metadata": {
        "id": "ty8Mzznj-Ol3"
      },
      "outputs": [],
      "source": [
        "# Add to nodes of G the attribute: status (S, I, R) \n",
        "for i in range(n):\n",
        "    G.nodes[i]['status'] = 'S'\n",
        "\n",
        "# Randomly select start node, initialise time and three counters\n",
        "start = random.randint(0, n-1)\n",
        "G.nodes[start]['status'] = 'I'\n",
        "\n",
        "\n",
        "time = 0\n",
        "S = [n-1]\n",
        "I = [1]\n",
        "R = [0]\n",
        "T = 100"
      ]
    },
    {
      "cell_type": "code",
      "execution_count": null,
      "metadata": {
        "id": "QGIVdnrd2Jtm"
      },
      "outputs": [],
      "source": [
        "# Do loop: for time in range (1, T)\n",
        "for time in range(1, T):\n",
        "    # 0. Select from nodes infected ones and put into separate list\n",
        "    infected_at_t = []\n",
        "    for i in range(n):\n",
        "        if G.nodes[i]['status'] == 'I':\n",
        "            infected_at_t.append(i)\n",
        "    # 1. Do loop over infected nodes and infect their neighbors with\n",
        "    #    certain prob,\n",
        "    #    when doing this change status of\n",
        "    #    infected to recovered\n",
        "\n",
        "    for j in infected_at_t:\n",
        "        neighbors_of_j = G.adj[j]\n",
        "        #print(neighbors_of_j, type(neighbors_of_j))\n",
        "\n",
        "        for k in neighbors_of_j:\n",
        "            \n",
        "            if foo(0.4):\n",
        "                if G._node[k]['status'] == 'S':\n",
        "                    G._node[k]['status'] = 'I'\n",
        "                \n",
        "    for j in infected_at_t:\n",
        "        G._node[j]['status'] = 'R'        \n",
        "        \n",
        "\n",
        "     #      2. Calculate number of S, I, R\n",
        "    St = 0\n",
        "    It = 0\n",
        "    Rt = 0\n",
        "    for n in G.nodes():\n",
        "        if G._node[n]['status'] == 'I':\n",
        "            It += 1\n",
        "        elif G._node[n]['status'] == 'R':\n",
        "            Rt += 1\n",
        "        elif G._node[n]['status'] == 'S':\n",
        "            St += 1\n",
        "\n",
        "    S.append(St)\n",
        "    I.append(It)\n",
        "    R.append(Rt)"
      ]
    },
    {
      "cell_type": "code",
      "execution_count": null,
      "metadata": {
        "colab": {
          "base_uri": "https://localhost:8080/",
          "height": 265
        },
        "id": "Y3xC-aa62JoQ",
        "outputId": "cfefa626-acb4-4016-b4d0-c7098a282ba5"
      },
      "outputs": [
        {
          "data": {
            "image/png": "[encoded data removed]",
            "text/plain": [
              "<Figure size 432x288 with 1 Axes>"
            ]
          },
          "metadata": {
            "needs_background": "light"
          },
          "output_type": "display_data"
        }
      ],
      "source": [
        "# Draw time series for S, I, R\n",
        "fig, ax = plt.subplots()\n",
        "\n",
        "ax.plot(S, label = 'S')\n",
        "ax.plot(I, label = 'I')\n",
        "ax.plot(R, label = 'R')\n",
        "ax.legend(fontsize = 15,\n",
        "          ncol = 2,\n",
        "          facecolor = 'oldlace',\n",
        "          edgecolor = 'r',\n",
        "          title_fontsize = '10'\n",
        ")\n",
        "fig.set_figwidth(5)\n",
        "fig.set_figheight(5)\n",
        "\n",
        "plt.show()"
      ]
    },
    {
      "cell_type": "markdown",
      "metadata": {
        "id": "NMMF51Ag-2CW"
      },
      "source": [
        "**If the degree of vulnerability (morbidity, spread of infection) is higher, then:**"
      ]
    },
    {
      "cell_type": "code",
      "execution_count": null,
      "metadata": {
        "id": "eaIjWQ-9_2G6"
      },
      "outputs": [],
      "source": [
        "# Generate random Poisson network G(n,m)\n",
        "n = 400\n",
        "m = 600\n",
        "G = nx.dense_gnm_random_graph(n, m, seed=None)"
      ]
    },
    {
      "cell_type": "code",
      "execution_count": null,
      "metadata": {
        "id": "9_mUQFkL_24W"
      },
      "outputs": [],
      "source": [
        "# Add to nodes of G the attribute: status (S, I, R) \n",
        "for i in range(n):\n",
        "    G.nodes[i]['status'] = 'S'\n",
        "\n",
        "# Randomly select start node, initialise time and three counters\n",
        "start = random.randint(0, n-1)\n",
        "G.nodes[start]['status'] = 'I'\n",
        "\n",
        "\n",
        "time = 0\n",
        "S = [n-1]\n",
        "I = [1]\n",
        "R = [0]\n",
        "T = 100"
      ]
    },
    {
      "cell_type": "code",
      "execution_count": null,
      "metadata": {
        "id": "l1P9OEdI_2yh"
      },
      "outputs": [],
      "source": [
        "# Do loop: for time in range (1, T)\n",
        "for time in range(1, T):\n",
        "    # 0. Select from nodes infected ones and put into separate list\n",
        "    infected_at_t = []\n",
        "    for i in range(n):\n",
        "        if G.nodes[i]['status'] == 'I':\n",
        "            infected_at_t.append(i)\n",
        "    # 1. Do loop over infected nodes and infect their neighbors with\n",
        "    #    certain prob,\n",
        "    #    when doing this change status of\n",
        "    #    infected to recovered\n",
        "\n",
        "    for j in infected_at_t:\n",
        "        neighbors_of_j = G.adj[j]\n",
        "        #print(neighbors_of_j, type(neighbors_of_j))\n",
        "\n",
        "        for k in neighbors_of_j:\n",
        "            \n",
        "            if foo(0.6):\n",
        "                if G._node[k]['status'] == 'S':\n",
        "                    G._node[k]['status'] = 'I'\n",
        "                \n",
        "    for j in infected_at_t:\n",
        "        G._node[j]['status'] = 'R'        \n",
        "        \n",
        "\n",
        "     #      2. Calculate number of S, I, R\n",
        "    St = 0\n",
        "    It = 0\n",
        "    Rt = 0\n",
        "    for n in G.nodes():\n",
        "        if G._node[n]['status'] == 'I':\n",
        "            It += 1\n",
        "        elif G._node[n]['status'] == 'R':\n",
        "            Rt += 1\n",
        "        elif G._node[n]['status'] == 'S':\n",
        "            St += 1\n",
        "\n",
        "    S.append(St)\n",
        "    I.append(It)\n",
        "    R.append(Rt)"
      ]
    },
    {
      "cell_type": "code",
      "execution_count": null,
      "metadata": {
        "colab": {
          "base_uri": "https://localhost:8080/",
          "height": 320
        },
        "id": "25nwaDS4_2ok",
        "outputId": "54ad81e3-6b3e-4307-f084-bf9845f6697f"
      },
      "outputs": [
        {
          "data": {
            "image/png": "[encoded data removed]",
            "text/plain": [
              "<Figure size 360x360 with 1 Axes>"
            ]
          },
          "metadata": {
            "needs_background": "light"
          },
          "output_type": "display_data"
        }
      ],
      "source": [
        "# Draw time series for S, I, R\n",
        "fig, ax = plt.subplots()\n",
        "\n",
        "ax.plot(S, label = 'S')\n",
        "ax.plot(I, label = 'I')\n",
        "ax.plot(R, label = 'R')\n",
        "ax.legend(fontsize = 15,\n",
        "          ncol = 2,\n",
        "          facecolor = 'oldlace',\n",
        "          edgecolor = 'r',\n",
        "          title_fontsize = '10'\n",
        ")\n",
        "fig.set_figwidth(5)\n",
        "fig.set_figheight(5)\n",
        "\n",
        "plt.show()"
      ]
    }
  ],
  "metadata": {
    "colab": {
      "provenance": []
    },
    "kernelspec": {
      "display_name": "Python 3",
      "name": "python3"
    },
    "language_info": {
      "name": "python"
    }
  },
  "nbformat": 4,
  "nbformat_minor": 0
}
