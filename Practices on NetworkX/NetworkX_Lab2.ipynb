{
  "nbformat": 4,
  "nbformat_minor": 0,
  "metadata": {
    "colab": {
      "provenance": []
    },
    "kernelspec": {
      "name": "python3",
      "display_name": "Python 3"
    },
    "language_info": {
      "name": "python"
    }
  },
  "cells": [
    {
      "cell_type": "code",
      "execution_count": 2,
      "metadata": {
        "id": "a-XpE3nlyn2G"
      },
      "outputs": [],
      "source": [
        "import networkx as nx\n",
        "import scipy as sp\n",
        "import numpy as np\n",
        "import matplotlib.pyplot as plt"
      ]
    },
    {
      "cell_type": "code",
      "source": [
        "nodes_amount = 1000\n",
        "average_edges_amount = 1.5*nodes_amount*np.log(2)"
      ],
      "metadata": {
        "id": "ycttr1Tgrlbf"
      },
      "execution_count": 35,
      "outputs": []
    },
    {
      "cell_type": "code",
      "source": [
        "average_edges_amount"
      ],
      "metadata": {
        "colab": {
          "base_uri": "https://localhost:8080/"
        },
        "id": "VGCdwlu2rlkk",
        "outputId": "39f95a39-4c83-4c1b-d3f0-2928d1000d36"
      },
      "execution_count": 36,
      "outputs": [
        {
          "output_type": "execute_result",
          "data": {
            "text/plain": [
              "1039.720770839918"
            ]
          },
          "metadata": {},
          "execution_count": 36
        }
      ]
    },
    {
      "cell_type": "code",
      "source": [
        "GNM=nx.dense_gnm_random_graph(nodes_amount, np.ceil(average_edges_amount), seed=None)"
      ],
      "metadata": {
        "id": "AuTVO7UBrltW"
      },
      "execution_count": 37,
      "outputs": []
    },
    {
      "cell_type": "code",
      "source": [
        "GNMcc=sorted(nx.connected_components(GNM), key=len, reverse=True)\n",
        "GNM0=GNM.subgraph(GNMcc[0])"
      ],
      "metadata": {
        "id": "Yx8E9l7_rl18"
      },
      "execution_count": 38,
      "outputs": []
    },
    {
      "cell_type": "code",
      "source": [
        "len(GNM0.nodes())"
      ],
      "metadata": {
        "colab": {
          "base_uri": "https://localhost:8080/"
        },
        "id": "iMU7p6dQrubk",
        "outputId": "893d40c7-60ce-4a08-91d7-3d47100a574b"
      },
      "execution_count": 39,
      "outputs": [
        {
          "output_type": "execute_result",
          "data": {
            "text/plain": [
              "823"
            ]
          },
          "metadata": {},
          "execution_count": 39
        }
      ]
    },
    {
      "cell_type": "code",
      "source": [
        "print(\"The graph contains \", 100*len(GNM0.nodes())/nodes_amount, \"% of all possible graph vertices\")"
      ],
      "metadata": {
        "colab": {
          "base_uri": "https://localhost:8080/"
        },
        "id": "T8Japk3Urx7P",
        "outputId": "f1aae2b1-fcb9-4198-c674-149ee02d0d73"
      },
      "execution_count": 40,
      "outputs": [
        {
          "output_type": "stream",
          "name": "stdout",
          "text": [
            "The graph contains  82.3 % of all possible graph vertices\n"
          ]
        }
      ]
    },
    {
      "cell_type": "code",
      "source": [
        "nodes_amount = 10000\n",
        "average_edges_amount = 4*nodes_amount*np.log(2)"
      ],
      "metadata": {
        "id": "UPN8oLcBVj-h"
      },
      "execution_count": 53,
      "outputs": []
    },
    {
      "cell_type": "code",
      "source": [
        "average_edges_amount"
      ],
      "metadata": {
        "colab": {
          "base_uri": "https://localhost:8080/"
        },
        "id": "6ZLwlS2DRGP9",
        "outputId": "96090f9b-5e55-423d-ddb5-002652780c6a"
      },
      "execution_count": 54,
      "outputs": [
        {
          "output_type": "execute_result",
          "data": {
            "text/plain": [
              "27725.88722239781"
            ]
          },
          "metadata": {},
          "execution_count": 54
        }
      ]
    },
    {
      "cell_type": "code",
      "source": [
        "GNM=nx.dense_gnm_random_graph(nodes_amount, np.ceil(average_edges_amount), seed=None)"
      ],
      "metadata": {
        "id": "cJqFzeNJ70iK"
      },
      "execution_count": 55,
      "outputs": []
    },
    {
      "cell_type": "code",
      "source": [
        "GNMcc=sorted(nx.connected_components(GNM), key=len, reverse=True)\n",
        "GNM0=GNM.subgraph(GNMcc[0])"
      ],
      "metadata": {
        "id": "yExxa34H70sz"
      },
      "execution_count": 56,
      "outputs": []
    },
    {
      "cell_type": "code",
      "source": [
        "len(GNM0.nodes())"
      ],
      "metadata": {
        "colab": {
          "base_uri": "https://localhost:8080/"
        },
        "id": "JUNv0HQx70wb",
        "outputId": "e79d743b-b2d0-4d8c-c011-ad4932afd002"
      },
      "execution_count": 57,
      "outputs": [
        {
          "output_type": "execute_result",
          "data": {
            "text/plain": [
              "9951"
            ]
          },
          "metadata": {},
          "execution_count": 57
        }
      ]
    },
    {
      "cell_type": "code",
      "source": [
        "print(\"The graph contains \", 100*len(GNM0.nodes())/nodes_amount, \"% of all possible graph vertices\")"
      ],
      "metadata": {
        "id": "c5piZ_JtatlW",
        "colab": {
          "base_uri": "https://localhost:8080/"
        },
        "outputId": "5ed3b8f2-cd77-45e2-c9ce-837eded091b7"
      },
      "execution_count": 58,
      "outputs": [
        {
          "output_type": "stream",
          "name": "stdout",
          "text": [
            "The graph contains  99.51 % of all possible graph vertices\n"
          ]
        }
      ]
    },
    {
      "cell_type": "code",
      "source": [
        "GNM1=GNM.subgraph(GNMcc[1])"
      ],
      "metadata": {
        "id": "sd1oo8_z70zi"
      },
      "execution_count": 29,
      "outputs": []
    },
    {
      "cell_type": "code",
      "source": [
        "len(GNM1.nodes())"
      ],
      "metadata": {
        "colab": {
          "base_uri": "https://localhost:8080/"
        },
        "id": "5ZQ5LO8d70_s",
        "outputId": "e3d8fb75-f421-41fa-e962-7a86816f5c5e"
      },
      "execution_count": 30,
      "outputs": [
        {
          "output_type": "execute_result",
          "data": {
            "text/plain": [
              "43"
            ]
          },
          "metadata": {},
          "execution_count": 30
        }
      ]
    },
    {
      "cell_type": "code",
      "source": [
        "nodes_amount = 100000\n",
        "average_edges_amount = nodes_amount*np.log(2)"
      ],
      "metadata": {
        "id": "HcnehW-RPVPI"
      },
      "execution_count": 3,
      "outputs": []
    },
    {
      "cell_type": "code",
      "source": [
        "GNM=nx.dense_gnm_random_graph(nodes_amount, np.ceil(average_edges_amount), seed=None)"
      ],
      "metadata": {
        "id": "BgdOeXmRw5GF"
      },
      "execution_count": null,
      "outputs": []
    },
    {
      "cell_type": "code",
      "source": [
        "GNMcc=sorted(nx.connected_components(GNM), key=len, reverse=True)\n",
        "GNM0=GNM.subgraph(GNMcc[0])"
      ],
      "metadata": {
        "id": "QDZPKG_Uw5N5"
      },
      "execution_count": null,
      "outputs": []
    },
    {
      "cell_type": "code",
      "source": [
        "len(GNM0.nodes())"
      ],
      "metadata": {
        "id": "sFzJsGzlPVWx"
      },
      "execution_count": null,
      "outputs": []
    },
    {
      "cell_type": "code",
      "source": [
        "print(\"The graph contains \", 100*len(GNM0.nodes())/nodes_amount, \"% of all possible graph vertices\")"
      ],
      "metadata": {
        "id": "VO5fT_kOsJZ6"
      },
      "execution_count": null,
      "outputs": []
    },
    {
      "cell_type": "markdown",
      "source": [
        "Analytical prediction for the giant component"
      ],
      "metadata": {
        "id": "cl9UPnvsv5uS"
      }
    },
    {
      "cell_type": "code",
      "source": [
        "nodes_amount = 10000\n",
        "probability = np.ceil(4*nodes_amount*np.log(2))/(nodes_amount*(nodes_amount-1))*2"
      ],
      "metadata": {
        "id": "zNzbDwpxsJfn"
      },
      "execution_count": 79,
      "outputs": []
    },
    {
      "cell_type": "code",
      "source": [
        "G_erdos_renyi=nx.erdos_renyi_graph(nodes_amount, probability, seed=None)"
      ],
      "metadata": {
        "id": "dS-3EIBxsU23"
      },
      "execution_count": 80,
      "outputs": []
    },
    {
      "cell_type": "code",
      "source": [
        "G_erdos_renyi_cc=sorted(nx.connected_components(G_erdos_renyi), key=len, reverse=True)\n",
        "G_erdos_renyi_0=G_erdos_renyi.subgraph(G_erdos_renyi_cc[0])"
      ],
      "metadata": {
        "id": "i1D2Dc_MsU7c"
      },
      "execution_count": 81,
      "outputs": []
    },
    {
      "cell_type": "code",
      "source": [
        "len(G_erdos_renyi_0.nodes())"
      ],
      "metadata": {
        "colab": {
          "base_uri": "https://localhost:8080/"
        },
        "id": "L1k1CNE5sVAl",
        "outputId": "9f90b5e3-7139-43ad-c31e-ee7040e26fb3"
      },
      "execution_count": 82,
      "outputs": [
        {
          "output_type": "execute_result",
          "data": {
            "text/plain": [
              "9963"
            ]
          },
          "metadata": {},
          "execution_count": 82
        }
      ]
    },
    {
      "cell_type": "code",
      "source": [
        "print(\"The graph contains \", 100*len(G_erdos_renyi_0.nodes())/nodes_amount, \"% of all possible graph vertices\")"
      ],
      "metadata": {
        "colab": {
          "base_uri": "https://localhost:8080/"
        },
        "id": "OppHDgNlsVLs",
        "outputId": "29571752-6c33-48b1-b138-83eb5b1bc0a5"
      },
      "execution_count": 83,
      "outputs": [
        {
          "output_type": "stream",
          "name": "stdout",
          "text": [
            "The graph contains  99.63 % of all possible graph vertices\n"
          ]
        }
      ]
    },
    {
      "cell_type": "code",
      "source": [
        "nodes_amount = 1000\n",
        "probability = np.ceil(4*nodes_amount*np.log(2))/(nodes_amount*(nodes_amount-1))*2"
      ],
      "metadata": {
        "id": "H2jgvNkesJk8"
      },
      "execution_count": 84,
      "outputs": []
    },
    {
      "cell_type": "code",
      "source": [
        "G_erdos_renyi=nx.erdos_renyi_graph(nodes_amount, probability, seed=None)"
      ],
      "metadata": {
        "id": "WKE9vsk2wFlF"
      },
      "execution_count": 85,
      "outputs": []
    },
    {
      "cell_type": "code",
      "source": [
        "G_erdos_renyi_cc=sorted(nx.connected_components(G_erdos_renyi), key=len, reverse=True)\n",
        "G_erdos_renyi_0=G_erdos_renyi.subgraph(G_erdos_renyi_cc[0])"
      ],
      "metadata": {
        "id": "2IFAxA0LQ63F"
      },
      "execution_count": 86,
      "outputs": []
    },
    {
      "cell_type": "code",
      "source": [
        "len(G_erdos_renyi_0.nodes())"
      ],
      "metadata": {
        "colab": {
          "base_uri": "https://localhost:8080/"
        },
        "id": "Zc5iT28YQ6_s",
        "outputId": "0d1b179d-3995-4b74-9783-31199c50809d"
      },
      "execution_count": 87,
      "outputs": [
        {
          "output_type": "execute_result",
          "data": {
            "text/plain": [
              "993"
            ]
          },
          "metadata": {},
          "execution_count": 87
        }
      ]
    },
    {
      "cell_type": "code",
      "source": [
        "print(\"The graph contains \", 100*len(G_erdos_renyi_0.nodes())/nodes_amount, \"% of all possible graph vertices\")"
      ],
      "metadata": {
        "colab": {
          "base_uri": "https://localhost:8080/"
        },
        "id": "rpcUFwQGQ7DR",
        "outputId": "13a53854-68e3-42af-aa00-f3e0a9ca8ccc"
      },
      "execution_count": 88,
      "outputs": [
        {
          "output_type": "stream",
          "name": "stdout",
          "text": [
            "The graph contains  99.3 % of all possible graph vertices\n"
          ]
        }
      ]
    }
  ]
}