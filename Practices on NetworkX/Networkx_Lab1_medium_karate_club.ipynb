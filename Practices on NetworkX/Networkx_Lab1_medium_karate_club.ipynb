{
  "cells": [
    {
      "cell_type": "raw",
      "metadata": {
        "id": "Jdbx4kk8eM7f"
      },
      "source": [
        "https://theslaps.medium.com/centrality-metrics-via-networkx-python-e13e60ba2740"
      ]
    },
    {
      "cell_type": "raw",
      "metadata": {
        "id": "qCzWo9DLeM7h"
      },
      "source": [
        "Zachary’s karate club is a widely used dataset [1] which originated from the paper “An Information Flow Model for Conflict and Fission in Small Group” that was written by Wayne Zachary [2]. The paper was published in 1977.\n",
        "\n",
        "This dataset will be used to explore four widely used node centrality metrics (Degree, Eigenvector, Closeness and Betweenness) using the python library NetworkX.\n",
        "\n",
        "Warning: This social network is not a directed graph. Computing directed graph centrality metrics will not be covered here."
      ]
    },
    {
      "cell_type": "code",
      "execution_count": 143,
      "metadata": {
        "colab": {
          "base_uri": "https://localhost:8080/"
        },
        "id": "kiAFHjwEeM7j",
        "outputId": "f46b35d7-8424-4ccf-9b7a-c03bef361292"
      },
      "outputs": [
        {
          "output_type": "stream",
          "name": "stdout",
          "text": [
            "#nodes: 34 and #edges: 78\n"
          ]
        }
      ],
      "source": [
        "import networkx as nx\n",
        "\n",
        "G = nx.karate_club_graph()\n",
        "\n",
        "## #nodes: 34 and #edges: 78\n",
        "print('#nodes:', len(G.nodes()), 'and', '#edges:', len(G.edges()))"
      ]
    },
    {
      "cell_type": "raw",
      "metadata": {
        "id": "JwW-oTsveM7n"
      },
      "source": [
        "Degree Centrality\n",
        "\n",
        "The degree of a node is simply defined as the number of connecting edges that it has. The node ‘33’ has 17 edges connecting it, to other nodes in the network. This results in a degree of 17. To determine the degree centrality, the degree of a node is divided by the number of other nodes in the network (n-1). To continue with computing the degree centrality for node ‘33’, 17 / (34-1) results in 0.5152. Remember from above, the number of nodes in the dataset is 34.\n",
        "\n",
        "An interpretation of this metric, Popularity."
      ]
    },
    {
      "cell_type": "code",
      "execution_count": 2,
      "metadata": {
        "id": "L3ov43eweM7o"
      },
      "outputs": [],
      "source": [
        "degree_centrality = nx.degree_centrality(G)"
      ]
    },
    {
      "cell_type": "code",
      "execution_count": 3,
      "metadata": {
        "colab": {
          "base_uri": "https://localhost:8080/"
        },
        "id": "I50hbgaTeM7s",
        "outputId": "05681a9c-c2ae-4ac9-ccf5-5d70f7d33fc1"
      },
      "outputs": [
        {
          "output_type": "execute_result",
          "data": {
            "text/plain": [
              "{0: 0.48484848484848486,\n",
              " 1: 0.2727272727272727,\n",
              " 2: 0.30303030303030304,\n",
              " 3: 0.18181818181818182,\n",
              " 4: 0.09090909090909091,\n",
              " 5: 0.12121212121212122,\n",
              " 6: 0.12121212121212122,\n",
              " 7: 0.12121212121212122,\n",
              " 8: 0.15151515151515152,\n",
              " 9: 0.06060606060606061,\n",
              " 10: 0.09090909090909091,\n",
              " 11: 0.030303030303030304,\n",
              " 12: 0.06060606060606061,\n",
              " 13: 0.15151515151515152,\n",
              " 14: 0.06060606060606061,\n",
              " 15: 0.06060606060606061,\n",
              " 16: 0.06060606060606061,\n",
              " 17: 0.06060606060606061,\n",
              " 18: 0.06060606060606061,\n",
              " 19: 0.09090909090909091,\n",
              " 20: 0.06060606060606061,\n",
              " 21: 0.06060606060606061,\n",
              " 22: 0.06060606060606061,\n",
              " 23: 0.15151515151515152,\n",
              " 24: 0.09090909090909091,\n",
              " 25: 0.09090909090909091,\n",
              " 26: 0.06060606060606061,\n",
              " 27: 0.12121212121212122,\n",
              " 28: 0.09090909090909091,\n",
              " 29: 0.12121212121212122,\n",
              " 30: 0.12121212121212122,\n",
              " 31: 0.18181818181818182,\n",
              " 32: 0.36363636363636365,\n",
              " 33: 0.5151515151515151}"
            ]
          },
          "metadata": {},
          "execution_count": 3
        }
      ],
      "source": [
        "degree_centrality"
      ]
    },
    {
      "cell_type": "raw",
      "metadata": {
        "id": "DbMgBUnMeM7u"
      },
      "source": [
        "Eigenvector Centrality\n",
        "The adjacency matrix allows the connectivity of a node to be expressed in matrix form. So, for non-directed networks, the matrix is symmetric.\n",
        "Eigenvector centrality uses this matrix to compute its largest, most unique eigenvalues. The resulting eigenvector is used as the metric. The basic idea behind this metric revolves around a nodes neighbors and how connected they are. To score higher, a node needs to be well connected (high degree centrality) but it also needs to be connected to others that are well connected.\n",
        "\n",
        "An interpretation of this metric, Influence.\n",
        "\n"
      ]
    },
    {
      "cell_type": "code",
      "execution_count": 4,
      "metadata": {
        "id": "w1LpWbP1eM7v",
        "outputId": "e3e8aa45-18af-42c0-d835-b7d75b436344",
        "colab": {
          "base_uri": "https://localhost:8080/"
        }
      },
      "outputs": [
        {
          "output_type": "execute_result",
          "data": {
            "text/plain": [
              "matrix([[0, 1, 1, ..., 1, 0, 0],\n",
              "        [1, 0, 1, ..., 0, 0, 0],\n",
              "        [1, 1, 0, ..., 0, 1, 0],\n",
              "        ...,\n",
              "        [1, 0, 0, ..., 0, 1, 1],\n",
              "        [0, 0, 1, ..., 1, 0, 1],\n",
              "        [0, 0, 0, ..., 1, 1, 0]])"
            ]
          },
          "metadata": {},
          "execution_count": 4
        }
      ],
      "source": [
        "nx.adjacency_matrix(G).todense()"
      ]
    },
    {
      "cell_type": "code",
      "execution_count": 5,
      "metadata": {
        "id": "j7yFHJYyeM7w"
      },
      "outputs": [],
      "source": [
        "eigenvector_centrality = nx.eigenvector_centrality(G)"
      ]
    },
    {
      "cell_type": "code",
      "execution_count": 6,
      "metadata": {
        "id": "kfRkdN-reM7y",
        "outputId": "dddb9f51-e1d0-43c5-9f7b-38862fe72114",
        "colab": {
          "base_uri": "https://localhost:8080/"
        }
      },
      "outputs": [
        {
          "output_type": "execute_result",
          "data": {
            "text/plain": [
              "{0: 0.3554834941851943,\n",
              " 1: 0.2659538704545025,\n",
              " 2: 0.31718938996844476,\n",
              " 3: 0.2111740783205706,\n",
              " 4: 0.07596645881657382,\n",
              " 5: 0.07948057788594247,\n",
              " 6: 0.07948057788594247,\n",
              " 7: 0.17095511498035434,\n",
              " 8: 0.2274050914716605,\n",
              " 9: 0.10267519030637758,\n",
              " 10: 0.07596645881657381,\n",
              " 11: 0.05285416945233648,\n",
              " 12: 0.08425192086558088,\n",
              " 13: 0.22646969838808148,\n",
              " 14: 0.10140627846270832,\n",
              " 15: 0.10140627846270832,\n",
              " 16: 0.023634794260596875,\n",
              " 17: 0.09239675666845953,\n",
              " 18: 0.10140627846270832,\n",
              " 19: 0.14791134007618667,\n",
              " 20: 0.10140627846270832,\n",
              " 21: 0.09239675666845953,\n",
              " 22: 0.10140627846270832,\n",
              " 23: 0.15012328691726787,\n",
              " 24: 0.05705373563802805,\n",
              " 25: 0.05920820250279008,\n",
              " 26: 0.07558192219009324,\n",
              " 27: 0.13347932684333308,\n",
              " 28: 0.13107925627221215,\n",
              " 29: 0.13496528673866567,\n",
              " 30: 0.17476027834493085,\n",
              " 31: 0.19103626979791702,\n",
              " 32: 0.3086510477336959,\n",
              " 33: 0.373371213013235}"
            ]
          },
          "metadata": {},
          "execution_count": 6
        }
      ],
      "source": [
        "eigenvector_centrality"
      ]
    },
    {
      "cell_type": "raw",
      "metadata": {
        "id": "_oU0s6OheM7y"
      },
      "source": [
        "Closeness Centrality\n",
        "This metric involves computing the shortest path between a node and all the other nodes in the network. Closeness centrality of a node is just the average of all of those shortest paths. This can also be computed using the previously mentioned adjacency matrix. \n",
        "\n",
        "An interpretation of this metric, Centralness."
      ]
    },
    {
      "cell_type": "code",
      "execution_count": 7,
      "metadata": {
        "id": "QVuSaTDGeM7z"
      },
      "outputs": [],
      "source": [
        "closeness_centrality = nx.closeness_centrality(G)"
      ]
    },
    {
      "cell_type": "code",
      "execution_count": 8,
      "metadata": {
        "id": "eyawQn04eM70",
        "outputId": "1698e3a3-2656-4292-ef48-2e9a3acf96f6",
        "colab": {
          "base_uri": "https://localhost:8080/"
        }
      },
      "outputs": [
        {
          "output_type": "execute_result",
          "data": {
            "text/plain": [
              "{0: 0.5689655172413793,\n",
              " 1: 0.4852941176470588,\n",
              " 2: 0.559322033898305,\n",
              " 3: 0.4647887323943662,\n",
              " 4: 0.3793103448275862,\n",
              " 5: 0.38372093023255816,\n",
              " 6: 0.38372093023255816,\n",
              " 7: 0.44,\n",
              " 8: 0.515625,\n",
              " 9: 0.4342105263157895,\n",
              " 10: 0.3793103448275862,\n",
              " 11: 0.36666666666666664,\n",
              " 12: 0.3707865168539326,\n",
              " 13: 0.515625,\n",
              " 14: 0.3707865168539326,\n",
              " 15: 0.3707865168539326,\n",
              " 16: 0.28448275862068967,\n",
              " 17: 0.375,\n",
              " 18: 0.3707865168539326,\n",
              " 19: 0.5,\n",
              " 20: 0.3707865168539326,\n",
              " 21: 0.375,\n",
              " 22: 0.3707865168539326,\n",
              " 23: 0.39285714285714285,\n",
              " 24: 0.375,\n",
              " 25: 0.375,\n",
              " 26: 0.3626373626373626,\n",
              " 27: 0.4583333333333333,\n",
              " 28: 0.4520547945205479,\n",
              " 29: 0.38372093023255816,\n",
              " 30: 0.4583333333333333,\n",
              " 31: 0.5409836065573771,\n",
              " 32: 0.515625,\n",
              " 33: 0.55}"
            ]
          },
          "metadata": {},
          "execution_count": 8
        }
      ],
      "source": [
        "closeness_centrality"
      ]
    },
    {
      "cell_type": "raw",
      "metadata": {
        "id": "2GSeuq8heM71"
      },
      "source": [
        "Betweenness Centrality\n",
        "This metric revolves around the idea of counting the number of times a node acts as a bridge. A bridge in a social network is someone who connects two different social groups. This allows for the dissemination of information between two social groups to occur.\n",
        "\n",
        "For each node (v) in the network, do the following for each pair of nodes (s, t) where (s) and (t) is not (v),\n",
        "\n",
        "Compute the number of shortest paths where the two nodes (s, t) are the ends.\n",
        "Out of all those paths, figure out how many of those shortest paths have (v) in them.\n",
        "Compute the fraction of (step 2 / step 1).\n",
        "Sum all of these fractions up across all the pairs of nodes.\n",
        "Intuition: A high value for a node indicates that it is situated in the middle of a number (higher amount) of shortest paths.\n",
        "\n",
        "An interpretation of this metric, Bridge."
      ]
    },
    {
      "cell_type": "code",
      "execution_count": 9,
      "metadata": {
        "id": "OsbTHZEJeM71"
      },
      "outputs": [],
      "source": [
        "betweenness_centrality = nx.betweenness_centrality(G)"
      ]
    },
    {
      "cell_type": "code",
      "execution_count": 10,
      "metadata": {
        "id": "jN61_4OQeM72",
        "outputId": "e2794bd8-97cd-48bb-acda-2c4295d72fca",
        "colab": {
          "base_uri": "https://localhost:8080/"
        }
      },
      "outputs": [
        {
          "output_type": "execute_result",
          "data": {
            "text/plain": [
              "{0: 0.43763528138528146,\n",
              " 1: 0.053936688311688304,\n",
              " 2: 0.14365680615680618,\n",
              " 3: 0.011909271284271283,\n",
              " 4: 0.0006313131313131313,\n",
              " 5: 0.02998737373737374,\n",
              " 6: 0.029987373737373736,\n",
              " 7: 0.0,\n",
              " 8: 0.05592682780182781,\n",
              " 9: 0.0008477633477633478,\n",
              " 10: 0.0006313131313131313,\n",
              " 11: 0.0,\n",
              " 12: 0.0,\n",
              " 13: 0.04586339586339586,\n",
              " 14: 0.0,\n",
              " 15: 0.0,\n",
              " 16: 0.0,\n",
              " 17: 0.0,\n",
              " 18: 0.0,\n",
              " 19: 0.03247504810004811,\n",
              " 20: 0.0,\n",
              " 21: 0.0,\n",
              " 22: 0.0,\n",
              " 23: 0.017613636363636363,\n",
              " 24: 0.0022095959595959595,\n",
              " 25: 0.0038404882154882154,\n",
              " 26: 0.0,\n",
              " 27: 0.02233345358345358,\n",
              " 28: 0.0017947330447330447,\n",
              " 29: 0.0029220779220779218,\n",
              " 30: 0.014411976911976909,\n",
              " 31: 0.13827561327561325,\n",
              " 32: 0.145247113997114,\n",
              " 33: 0.30407497594997596}"
            ]
          },
          "metadata": {},
          "execution_count": 10
        }
      ],
      "source": [
        "betweenness_centrality"
      ]
    },
    {
      "cell_type": "code",
      "execution_count": 11,
      "metadata": {
        "id": "rS1t6FYneM73"
      },
      "outputs": [],
      "source": [
        "fv = nx.fiedler_vector(G, weight='weight', normalized=False, tol=1e-08, method='tracemin')"
      ]
    },
    {
      "cell_type": "code",
      "execution_count": 12,
      "metadata": {
        "id": "VJJxvSiJeM73",
        "outputId": "2c9126f6-be4c-465c-a8d8-ceb241eff358",
        "colab": {
          "base_uri": "https://localhost:8080/"
        }
      },
      "outputs": [
        {
          "output_type": "execute_result",
          "data": {
            "text/plain": [
              "array([-0.11213742, -0.04128787,  0.02321896, -0.05549976, -0.28460455,\n",
              "       -0.32372726, -0.32372726, -0.05258599,  0.05160128,  0.09280089,\n",
              "       -0.28460455, -0.21099279, -0.10946127, -0.01474196,  0.16275077,\n",
              "        0.16275077, -0.4227654 , -0.10018139,  0.16275077, -0.01363712,\n",
              "        0.16275077, -0.10018139,  0.16275077,  0.15569456,  0.15302557,\n",
              "        0.16096291,  0.18710955,  0.12766404,  0.0951523 ,  0.1676503 ,\n",
              "        0.07349964,  0.09875342,  0.13034545,  0.11890326])"
            ]
          },
          "metadata": {},
          "execution_count": 12
        }
      ],
      "source": [
        "fv"
      ]
    },
    {
      "cell_type": "markdown",
      "source": [
        "# **Let us build a friendship graph for our own group and find the above indicators for it.**"
      ],
      "metadata": {
        "id": "AUUiRXzi1wtm"
      }
    },
    {
      "cell_type": "code",
      "source": [
        "import matplotlib.pyplot as plt\n",
        "\n",
        "g = nx.Graph()"
      ],
      "metadata": {
        "id": "88fDcTUc2TNx"
      },
      "execution_count": 144,
      "outputs": []
    },
    {
      "cell_type": "code",
      "execution_count": 147,
      "metadata": {
        "id": "2cWmhMgxeM74",
        "colab": {
          "base_uri": "https://localhost:8080/",
          "height": 535
        },
        "outputId": "ad33147f-24df-41c8-ec62-631d795d2256"
      },
      "outputs": [
        {
          "output_type": "display_data",
          "data": {
            "text/plain": [
              "<Figure size 504x504 with 1 Axes>"
            ],
            "image/png": "[encoded data removed]"
          },
          "metadata": {}
        }
      ],
      "source": [
        "g.add_edge(\"Anastasia Zv\", \"Nikita\")\n",
        "g.add_edge(\"Anastasia Zv\", \"Vakhtang\")\n",
        "g.add_edge(\"Anastasia Zv\", \"Artem\")\n",
        "g.add_edge(\"Anastasia Zv\", \"Marina\")\n",
        "g.add_edge(\"Anastasia Zv\", \"Pavlo\")\n",
        "g.add_edge(\"Anastasia Zv\", \"Kate\")\n",
        "\n",
        "g.add_edge(\"Anastasia M\", \"Nikita\")\n",
        "g.add_edge(\"Artem\", \"Nikita\")\n",
        "g.add_edge(\"Vakhtang\", \"Nikita\")\n",
        "g.add_edge(\"Dima\", \"Nikita\")\n",
        "\n",
        "g.add_edge(\"Artem\", \"Vakhtang\")\n",
        "g.add_edge(\"Artem\", \"Marina\")\n",
        "g.add_edge(\"Artem\", \"Sasha\")\n",
        "g.add_edge(\"Artem\", \"Kate\")\n",
        "\n",
        "g.add_edge(\"Vakhtang\", \"Sasha\")\n",
        "\n",
        "g.add_edge(\"Elina\", \"Anastasia M\")\n",
        "g.add_edge(\"Elina\", \"Dima\")\n",
        "g.add_edge(\"Dima\", \"Anastasia M\")\n",
        "\n",
        "g.add_edge(\"Marina\", \"Sasha\")\n",
        "g.add_edge(\"Kate\", \"Sasha\")\n",
        "\n",
        "pos = nx.spring_layout(g, seed=787)  # positions for all nodes\n",
        "plt.figure(1, figsize=(7, 7))\n",
        "#nx.draw(g, with_labels=True, font_size=14, node_color=\"tab:purple\", pos=pos, alpha=0.8, edge_color=\"tab:pink\", width=2)\n",
        "nx.draw_circular(g, with_labels=True, font_size=14, node_color=\"tab:purple\", alpha=0.8, edge_color=\"tab:pink\", width=2)\n",
        "plt.show()"
      ]
    },
    {
      "cell_type": "code",
      "source": [
        "degree_centrality = nx.degree_centrality(g)"
      ],
      "metadata": {
        "id": "kjEc5Q4JqTY3"
      },
      "execution_count": 130,
      "outputs": []
    },
    {
      "cell_type": "code",
      "source": [
        "degree_centrality"
      ],
      "metadata": {
        "colab": {
          "base_uri": "https://localhost:8080/"
        },
        "id": "h6wdkixwtWpd",
        "outputId": "1b753fea-0034-433d-b69f-8c323dfba907"
      },
      "execution_count": 131,
      "outputs": [
        {
          "output_type": "execute_result",
          "data": {
            "text/plain": [
              "{'Anastasia Zv': 0.6000000000000001,\n",
              " 'Nikita': 0.5,\n",
              " 'Vakhtang': 0.4,\n",
              " 'Artem': 0.6000000000000001,\n",
              " 'Marina': 0.30000000000000004,\n",
              " 'Pavlo': 0.1,\n",
              " 'Kate': 0.30000000000000004,\n",
              " 'Anastasia M': 0.30000000000000004,\n",
              " 'Dima': 0.30000000000000004,\n",
              " 'Sasha': 0.4,\n",
              " 'Elina': 0.2}"
            ]
          },
          "metadata": {},
          "execution_count": 131
        }
      ]
    },
    {
      "cell_type": "code",
      "source": [
        "nx.adjacency_matrix(g).todense()"
      ],
      "metadata": {
        "colab": {
          "base_uri": "https://localhost:8080/"
        },
        "id": "qzxTlTkatfpr",
        "outputId": "bcebb006-0217-4a02-a993-cb4ff155d802"
      },
      "execution_count": 132,
      "outputs": [
        {
          "output_type": "execute_result",
          "data": {
            "text/plain": [
              "matrix([[0, 1, 1, 1, 1, 1, 1, 0, 0, 0, 0],\n",
              "        [1, 0, 1, 1, 0, 0, 0, 1, 1, 0, 0],\n",
              "        [1, 1, 0, 1, 0, 0, 0, 0, 0, 1, 0],\n",
              "        [1, 1, 1, 0, 1, 0, 1, 0, 0, 1, 0],\n",
              "        [1, 0, 0, 1, 0, 0, 0, 0, 0, 1, 0],\n",
              "        [1, 0, 0, 0, 0, 0, 0, 0, 0, 0, 0],\n",
              "        [1, 0, 0, 1, 0, 0, 0, 0, 0, 1, 0],\n",
              "        [0, 1, 0, 0, 0, 0, 0, 0, 1, 0, 1],\n",
              "        [0, 1, 0, 0, 0, 0, 0, 1, 0, 0, 1],\n",
              "        [0, 0, 1, 1, 1, 0, 1, 0, 0, 0, 0],\n",
              "        [0, 0, 0, 0, 0, 0, 0, 1, 1, 0, 0]])"
            ]
          },
          "metadata": {},
          "execution_count": 132
        }
      ]
    },
    {
      "cell_type": "code",
      "source": [
        "eigenvector_centrality = nx.eigenvector_centrality(g)"
      ],
      "metadata": {
        "id": "VQq6cmqEt7dH"
      },
      "execution_count": 133,
      "outputs": []
    },
    {
      "cell_type": "code",
      "source": [
        "eigenvector_centrality"
      ],
      "metadata": {
        "colab": {
          "base_uri": "https://localhost:8080/"
        },
        "id": "rPqvMenTt7iq",
        "outputId": "eac0ee54-5533-461e-d280-1ed018325080"
      },
      "execution_count": 134,
      "outputs": [
        {
          "output_type": "execute_result",
          "data": {
            "text/plain": [
              "{'Anastasia Zv': 0.4352812470797447,\n",
              " 'Nikita': 0.3547863543938806,\n",
              " 'Vakhtang': 0.37006985496682093,\n",
              " 'Artem': 0.4783369822320541,\n",
              " 'Marina': 0.2879168669996512,\n",
              " 'Pavlo': 0.10079148284413794,\n",
              " 'Kate': 0.2879168669996512,\n",
              " 'Anastasia M': 0.12424877682741126,\n",
              " 'Dima': 0.12424877682741126,\n",
              " 'Sasha': 0.3297895198670162,\n",
              " 'Elina': 0.05754216219892027}"
            ]
          },
          "metadata": {},
          "execution_count": 134
        }
      ]
    },
    {
      "cell_type": "code",
      "source": [
        "closeness_centrality = nx.closeness_centrality(g)"
      ],
      "metadata": {
        "id": "WbA-tJ9kt7n_"
      },
      "execution_count": 135,
      "outputs": []
    },
    {
      "cell_type": "code",
      "source": [
        "closeness_centrality"
      ],
      "metadata": {
        "colab": {
          "base_uri": "https://localhost:8080/"
        },
        "id": "uU4t2tEcuK3G",
        "outputId": "f43b5ebb-1e4f-4b51-8a8c-2eccc051715c"
      },
      "execution_count": 136,
      "outputs": [
        {
          "output_type": "execute_result",
          "data": {
            "text/plain": [
              "{'Anastasia Zv': 0.6666666666666666,\n",
              " 'Nikita': 0.6666666666666666,\n",
              " 'Vakhtang': 0.5882352941176471,\n",
              " 'Artem': 0.6666666666666666,\n",
              " 'Marina': 0.47619047619047616,\n",
              " 'Pavlo': 0.4166666666666667,\n",
              " 'Kate': 0.47619047619047616,\n",
              " 'Anastasia M': 0.47619047619047616,\n",
              " 'Dima': 0.47619047619047616,\n",
              " 'Sasha': 0.47619047619047616,\n",
              " 'Elina': 0.3448275862068966}"
            ]
          },
          "metadata": {},
          "execution_count": 136
        }
      ]
    },
    {
      "cell_type": "code",
      "source": [
        "betweenness_centrality = nx.betweenness_centrality(g)"
      ],
      "metadata": {
        "id": "TMrhRPNtuK7f"
      },
      "execution_count": 137,
      "outputs": []
    },
    {
      "cell_type": "code",
      "source": [
        "betweenness_centrality"
      ],
      "metadata": {
        "colab": {
          "base_uri": "https://localhost:8080/"
        },
        "id": "YgG7vzNAuK_f",
        "outputId": "dc084d8d-502b-43bd-d405-943e710de89c"
      },
      "execution_count": 138,
      "outputs": [
        {
          "output_type": "execute_result",
          "data": {
            "text/plain": [
              "{'Anastasia Zv': 0.3111111111111111,\n",
              " 'Nikita': 0.4666666666666667,\n",
              " 'Vakhtang': 0.05555555555555556,\n",
              " 'Artem': 0.16666666666666669,\n",
              " 'Marina': 0.011111111111111112,\n",
              " 'Pavlo': 0.0,\n",
              " 'Kate': 0.011111111111111112,\n",
              " 'Anastasia M': 0.08888888888888889,\n",
              " 'Dima': 0.08888888888888889,\n",
              " 'Sasha': 0.022222222222222223,\n",
              " 'Elina': 0.0}"
            ]
          },
          "metadata": {},
          "execution_count": 138
        }
      ]
    },
    {
      "cell_type": "code",
      "source": [
        "fv = nx.fiedler_vector(g, weight='weight', normalized=False, tol=1e-08, method='tracemin')"
      ],
      "metadata": {
        "id": "jf2TheBUuX0M"
      },
      "execution_count": 139,
      "outputs": []
    },
    {
      "cell_type": "code",
      "source": [
        "fv"
      ],
      "metadata": {
        "colab": {
          "base_uri": "https://localhost:8080/"
        },
        "id": "UWfmC0vmuX7p",
        "outputId": "dcae7ad2-3183-4e0e-da4f-92cdbc6c0319"
      },
      "execution_count": 140,
      "outputs": [
        {
          "output_type": "execute_result",
          "data": {
            "text/plain": [
              "array([-0.18144525,  0.08042107, -0.13293972, -0.15900243, -0.21782118,\n",
              "       -0.35325898, -0.21782118,  0.41818929,  0.41818929, -0.20707473,\n",
              "        0.55256383])"
            ]
          },
          "metadata": {},
          "execution_count": 140
        }
      ]
    },
    {
      "cell_type": "code",
      "source": [
        "for i in range(len(g.nodes())):\n",
        "  print(np.array(g.nodes())[i], \": \", fv[i])"
      ],
      "metadata": {
        "colab": {
          "base_uri": "https://localhost:8080/"
        },
        "id": "bE3B0F8mxLwU",
        "outputId": "196b05f9-77df-4531-bf1b-ce1720e41e56"
      },
      "execution_count": 141,
      "outputs": [
        {
          "output_type": "stream",
          "name": "stdout",
          "text": [
            "Anastasia Zv :  -0.1814452491634746\n",
            "Nikita :  0.08042107400162615\n",
            "Vakhtang :  -0.13293972278910157\n",
            "Artem :  -0.15900243308207873\n",
            "Marina :  -0.21782118169295595\n",
            "Pavlo :  -0.3532589778909436\n",
            "Kate :  -0.2178211816929559\n",
            "Anastasia M :  0.4181892878717168\n",
            "Dima :  0.4181892878717168\n",
            "Sasha :  -0.20707473113655436\n",
            "Elina :  0.5525638277030049\n"
          ]
        }
      ]
    },
    {
      "cell_type": "code",
      "source": [
        "import numpy as np\n",
        "group1 = np.array(g.nodes())[fv >= 0]\n",
        "group2 = np.array(g.nodes())[fv < 0]\n",
        "print(\"group 1 :\", group1)\n",
        "print(\"group 2 :\", group2)"
      ],
      "metadata": {
        "colab": {
          "base_uri": "https://localhost:8080/"
        },
        "id": "qY-WeUSsuqc1",
        "outputId": "395202fa-ef4b-4a57-dd2e-23f8fa24d3b5"
      },
      "execution_count": 142,
      "outputs": [
        {
          "output_type": "stream",
          "name": "stdout",
          "text": [
            "group 1 : ['Nikita' 'Anastasia M' 'Dima' 'Elina']\n",
            "group 2 : ['Anastasia Zv' 'Vakhtang' 'Artem' 'Marina' 'Pavlo' 'Kate' 'Sasha']\n"
          ]
        }
      ]
    }
  ],
  "metadata": {
    "kernelspec": {
      "display_name": "Python 3 (ipykernel)",
      "language": "python",
      "name": "python3"
    },
    "language_info": {
      "codemirror_mode": {
        "name": "ipython",
        "version": 3
      },
      "file_extension": ".py",
      "mimetype": "text/x-python",
      "name": "python",
      "nbconvert_exporter": "python",
      "pygments_lexer": "ipython3",
      "version": "3.10.6"
    },
    "colab": {
      "provenance": []
    }
  },
  "nbformat": 4,
  "nbformat_minor": 0
}