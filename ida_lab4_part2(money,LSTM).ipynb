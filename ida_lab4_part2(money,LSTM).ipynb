{
  "nbformat": 4,
  "nbformat_minor": 0,
  "metadata": {
    "colab": {
      "name": "ida_lab4_part2(money, LSTM).ipynb",
      "provenance": []
    },
    "kernelspec": {
      "name": "python3",
      "display_name": "Python 3"
    },
    "language_info": {
      "name": "python"
    }
  },
  "cells": [
    {
      "cell_type": "code",
      "execution_count": 433,
      "metadata": {
        "id": "Oq2Zpjb9J1Dg"
      },
      "outputs": [],
      "source": [
        "import numpy as np # linear algebra\n",
        "import pandas as pd # data processing, CSV file I/O (e.g. pd.read_csv)\n",
        "import matplotlib.pyplot as plt\n",
        "import seaborn as sns\n",
        "import missingno as msno\n",
        "import os"
      ]
    },
    {
      "cell_type": "code",
      "source": [
        "# This file contains the stock information of Microsoft from 04/01/2015 to 04/01/2021\n",
        "money_df = pd.read_csv(\"Microsoft_Stock.csv\")\n",
        "money_df.info()"
      ],
      "metadata": {
        "colab": {
          "base_uri": "https://localhost:8080/"
        },
        "id": "D4g-aD04K5ry",
        "outputId": "527724f6-d76c-4983-c1d9-28704b875007"
      },
      "execution_count": 434,
      "outputs": [
        {
          "output_type": "stream",
          "name": "stdout",
          "text": [
            "<class 'pandas.core.frame.DataFrame'>\n",
            "RangeIndex: 1511 entries, 0 to 1510\n",
            "Data columns (total 6 columns):\n",
            " #   Column  Non-Null Count  Dtype  \n",
            "---  ------  --------------  -----  \n",
            " 0   Date    1511 non-null   object \n",
            " 1   Open    1511 non-null   float64\n",
            " 2   High    1511 non-null   float64\n",
            " 3   Low     1511 non-null   float64\n",
            " 4   Close   1511 non-null   float64\n",
            " 5   Volume  1511 non-null   int64  \n",
            "dtypes: float64(4), int64(1), object(1)\n",
            "memory usage: 71.0+ KB\n"
          ]
        }
      ]
    },
    {
      "cell_type": "code",
      "source": [
        "money_df.head()"
      ],
      "metadata": {
        "colab": {
          "base_uri": "https://localhost:8080/",
          "height": 206
        },
        "id": "NmsMLuaWZt4a",
        "outputId": "156328ef-7487-43cd-cafc-a78bef3135ff"
      },
      "execution_count": 435,
      "outputs": [
        {
          "output_type": "execute_result",
          "data": {
            "text/html": [
              "\n",
              "  <div id=\"df-218c07c0-c0cd-4d3a-8e66-91b5b3b24e6e\">\n",
              "    <div class=\"colab-df-container\">\n",
              "      <div>\n",
              "<style scoped>\n",
              "    .dataframe tbody tr th:only-of-type {\n",
              "        vertical-align: middle;\n",
              "    }\n",
              "\n",
              "    .dataframe tbody tr th {\n",
              "        vertical-align: top;\n",
              "    }\n",
              "\n",
              "    .dataframe thead th {\n",
              "        text-align: right;\n",
              "    }\n",
              "</style>\n",
              "<table border=\"1\" class=\"dataframe\">\n",
              "  <thead>\n",
              "    <tr style=\"text-align: right;\">\n",
              "      <th></th>\n",
              "      <th>Date</th>\n",
              "      <th>Open</th>\n",
              "      <th>High</th>\n",
              "      <th>Low</th>\n",
              "      <th>Close</th>\n",
              "      <th>Volume</th>\n",
              "    </tr>\n",
              "  </thead>\n",
              "  <tbody>\n",
              "    <tr>\n",
              "      <th>0</th>\n",
              "      <td>4/1/2015 16:00:00</td>\n",
              "      <td>40.60</td>\n",
              "      <td>40.76</td>\n",
              "      <td>40.31</td>\n",
              "      <td>40.72</td>\n",
              "      <td>36865322</td>\n",
              "    </tr>\n",
              "    <tr>\n",
              "      <th>1</th>\n",
              "      <td>4/2/2015 16:00:00</td>\n",
              "      <td>40.66</td>\n",
              "      <td>40.74</td>\n",
              "      <td>40.12</td>\n",
              "      <td>40.29</td>\n",
              "      <td>37487476</td>\n",
              "    </tr>\n",
              "    <tr>\n",
              "      <th>2</th>\n",
              "      <td>4/6/2015 16:00:00</td>\n",
              "      <td>40.34</td>\n",
              "      <td>41.78</td>\n",
              "      <td>40.18</td>\n",
              "      <td>41.55</td>\n",
              "      <td>39223692</td>\n",
              "    </tr>\n",
              "    <tr>\n",
              "      <th>3</th>\n",
              "      <td>4/7/2015 16:00:00</td>\n",
              "      <td>41.61</td>\n",
              "      <td>41.91</td>\n",
              "      <td>41.31</td>\n",
              "      <td>41.53</td>\n",
              "      <td>28809375</td>\n",
              "    </tr>\n",
              "    <tr>\n",
              "      <th>4</th>\n",
              "      <td>4/8/2015 16:00:00</td>\n",
              "      <td>41.48</td>\n",
              "      <td>41.69</td>\n",
              "      <td>41.04</td>\n",
              "      <td>41.42</td>\n",
              "      <td>24753438</td>\n",
              "    </tr>\n",
              "  </tbody>\n",
              "</table>\n",
              "</div>\n",
              "      <button class=\"colab-df-convert\" onclick=\"convertToInteractive('df-218c07c0-c0cd-4d3a-8e66-91b5b3b24e6e')\"\n",
              "              title=\"Convert this dataframe to an interactive table.\"\n",
              "              style=\"display:none;\">\n",
              "        \n",
              "  <svg xmlns=\"http://www.w3.org/2000/svg\" height=\"24px\"viewBox=\"0 0 24 24\"\n",
              "       width=\"24px\">\n",
              "    <path d=\"M0 0h24v24H0V0z\" fill=\"none\"/>\n",
              "    <path d=\"M18.56 5.44l.94 2.06.94-2.06 2.06-.94-2.06-.94-.94-2.06-.94 2.06-2.06.94zm-11 1L8.5 8.5l.94-2.06 2.06-.94-2.06-.94L8.5 2.5l-.94 2.06-2.06.94zm10 10l.94 2.06.94-2.06 2.06-.94-2.06-.94-.94-2.06-.94 2.06-2.06.94z\"/><path d=\"M17.41 7.96l-1.37-1.37c-.4-.4-.92-.59-1.43-.59-.52 0-1.04.2-1.43.59L10.3 9.45l-7.72 7.72c-.78.78-.78 2.05 0 2.83L4 21.41c.39.39.9.59 1.41.59.51 0 1.02-.2 1.41-.59l7.78-7.78 2.81-2.81c.8-.78.8-2.07 0-2.86zM5.41 20L4 18.59l7.72-7.72 1.47 1.35L5.41 20z\"/>\n",
              "  </svg>\n",
              "      </button>\n",
              "      \n",
              "  <style>\n",
              "    .colab-df-container {\n",
              "      display:flex;\n",
              "      flex-wrap:wrap;\n",
              "      gap: 12px;\n",
              "    }\n",
              "\n",
              "    .colab-df-convert {\n",
              "      background-color: #E8F0FE;\n",
              "      border: none;\n",
              "      border-radius: 50%;\n",
              "      cursor: pointer;\n",
              "      display: none;\n",
              "      fill: #1967D2;\n",
              "      height: 32px;\n",
              "      padding: 0 0 0 0;\n",
              "      width: 32px;\n",
              "    }\n",
              "\n",
              "    .colab-df-convert:hover {\n",
              "      background-color: #E2EBFA;\n",
              "      box-shadow: 0px 1px 2px rgba(60, 64, 67, 0.3), 0px 1px 3px 1px rgba(60, 64, 67, 0.15);\n",
              "      fill: #174EA6;\n",
              "    }\n",
              "\n",
              "    [theme=dark] .colab-df-convert {\n",
              "      background-color: #3B4455;\n",
              "      fill: #D2E3FC;\n",
              "    }\n",
              "\n",
              "    [theme=dark] .colab-df-convert:hover {\n",
              "      background-color: #434B5C;\n",
              "      box-shadow: 0px 1px 3px 1px rgba(0, 0, 0, 0.15);\n",
              "      filter: drop-shadow(0px 1px 2px rgba(0, 0, 0, 0.3));\n",
              "      fill: #FFFFFF;\n",
              "    }\n",
              "  </style>\n",
              "\n",
              "      <script>\n",
              "        const buttonEl =\n",
              "          document.querySelector('#df-218c07c0-c0cd-4d3a-8e66-91b5b3b24e6e button.colab-df-convert');\n",
              "        buttonEl.style.display =\n",
              "          google.colab.kernel.accessAllowed ? 'block' : 'none';\n",
              "\n",
              "        async function convertToInteractive(key) {\n",
              "          const element = document.querySelector('#df-218c07c0-c0cd-4d3a-8e66-91b5b3b24e6e');\n",
              "          const dataTable =\n",
              "            await google.colab.kernel.invokeFunction('convertToInteractive',\n",
              "                                                     [key], {});\n",
              "          if (!dataTable) return;\n",
              "\n",
              "          const docLinkHtml = 'Like what you see? Visit the ' +\n",
              "            '<a target=\"_blank\" href=https://colab.research.google.com/notebooks/data_table.ipynb>data table notebook</a>'\n",
              "            + ' to learn more about interactive tables.';\n",
              "          element.innerHTML = '';\n",
              "          dataTable['output_type'] = 'display_data';\n",
              "          await google.colab.output.renderOutput(dataTable, element);\n",
              "          const docLink = document.createElement('div');\n",
              "          docLink.innerHTML = docLinkHtml;\n",
              "          element.appendChild(docLink);\n",
              "        }\n",
              "      </script>\n",
              "    </div>\n",
              "  </div>\n",
              "  "
            ],
            "text/plain": [
              "                Date   Open   High    Low  Close    Volume\n",
              "0  4/1/2015 16:00:00  40.60  40.76  40.31  40.72  36865322\n",
              "1  4/2/2015 16:00:00  40.66  40.74  40.12  40.29  37487476\n",
              "2  4/6/2015 16:00:00  40.34  41.78  40.18  41.55  39223692\n",
              "3  4/7/2015 16:00:00  41.61  41.91  41.31  41.53  28809375\n",
              "4  4/8/2015 16:00:00  41.48  41.69  41.04  41.42  24753438"
            ]
          },
          "metadata": {},
          "execution_count": 435
        }
      ]
    },
    {
      "cell_type": "code",
      "source": [
        "fig = plt.figure(figsize=(5,5))\n",
        "sns.heatmap(data=money_df.corr(),annot=True)"
      ],
      "metadata": {
        "colab": {
          "base_uri": "https://localhost:8080/",
          "height": 341
        },
        "id": "95CpQy4vZOQJ",
        "outputId": "c25ee560-d973-4026-a77e-8d39553493e9"
      },
      "execution_count": 436,
      "outputs": [
        {
          "output_type": "execute_result",
          "data": {
            "text/plain": [
              "<matplotlib.axes._subplots.AxesSubplot at 0x7fa3c84d8790>"
            ]
          },
          "metadata": {},
          "execution_count": 436
        },
        {
          "output_type": "display_data",
          "data": {
            "image/png": "[encoded data removed]",
            "text/plain": [
              "<Figure size 360x360 with 2 Axes>"
            ]
          },
          "metadata": {
            "needs_background": "light"
          }
        }
      ]
    },
    {
      "cell_type": "code",
      "source": [
        "money_df.set_index(\"Date\", drop=True, inplace=True)"
      ],
      "metadata": {
        "id": "va_Xf-bgLhJn"
      },
      "execution_count": 437,
      "outputs": []
    },
    {
      "cell_type": "code",
      "source": [
        "money_df.head()"
      ],
      "metadata": {
        "colab": {
          "base_uri": "https://localhost:8080/",
          "height": 237
        },
        "id": "FQV718OiZnaB",
        "outputId": "dad9f160-fa21-4eac-d4e6-e98dd1839f69"
      },
      "execution_count": 438,
      "outputs": [
        {
          "output_type": "execute_result",
          "data": {
            "text/html": [
              "\n",
              "  <div id=\"df-242d65ec-e517-4f9c-b7e5-baeef1271d4e\">\n",
              "    <div class=\"colab-df-container\">\n",
              "      <div>\n",
              "<style scoped>\n",
              "    .dataframe tbody tr th:only-of-type {\n",
              "        vertical-align: middle;\n",
              "    }\n",
              "\n",
              "    .dataframe tbody tr th {\n",
              "        vertical-align: top;\n",
              "    }\n",
              "\n",
              "    .dataframe thead th {\n",
              "        text-align: right;\n",
              "    }\n",
              "</style>\n",
              "<table border=\"1\" class=\"dataframe\">\n",
              "  <thead>\n",
              "    <tr style=\"text-align: right;\">\n",
              "      <th></th>\n",
              "      <th>Open</th>\n",
              "      <th>High</th>\n",
              "      <th>Low</th>\n",
              "      <th>Close</th>\n",
              "      <th>Volume</th>\n",
              "    </tr>\n",
              "    <tr>\n",
              "      <th>Date</th>\n",
              "      <th></th>\n",
              "      <th></th>\n",
              "      <th></th>\n",
              "      <th></th>\n",
              "      <th></th>\n",
              "    </tr>\n",
              "  </thead>\n",
              "  <tbody>\n",
              "    <tr>\n",
              "      <th>4/1/2015 16:00:00</th>\n",
              "      <td>40.60</td>\n",
              "      <td>40.76</td>\n",
              "      <td>40.31</td>\n",
              "      <td>40.72</td>\n",
              "      <td>36865322</td>\n",
              "    </tr>\n",
              "    <tr>\n",
              "      <th>4/2/2015 16:00:00</th>\n",
              "      <td>40.66</td>\n",
              "      <td>40.74</td>\n",
              "      <td>40.12</td>\n",
              "      <td>40.29</td>\n",
              "      <td>37487476</td>\n",
              "    </tr>\n",
              "    <tr>\n",
              "      <th>4/6/2015 16:00:00</th>\n",
              "      <td>40.34</td>\n",
              "      <td>41.78</td>\n",
              "      <td>40.18</td>\n",
              "      <td>41.55</td>\n",
              "      <td>39223692</td>\n",
              "    </tr>\n",
              "    <tr>\n",
              "      <th>4/7/2015 16:00:00</th>\n",
              "      <td>41.61</td>\n",
              "      <td>41.91</td>\n",
              "      <td>41.31</td>\n",
              "      <td>41.53</td>\n",
              "      <td>28809375</td>\n",
              "    </tr>\n",
              "    <tr>\n",
              "      <th>4/8/2015 16:00:00</th>\n",
              "      <td>41.48</td>\n",
              "      <td>41.69</td>\n",
              "      <td>41.04</td>\n",
              "      <td>41.42</td>\n",
              "      <td>24753438</td>\n",
              "    </tr>\n",
              "  </tbody>\n",
              "</table>\n",
              "</div>\n",
              "      <button class=\"colab-df-convert\" onclick=\"convertToInteractive('df-242d65ec-e517-4f9c-b7e5-baeef1271d4e')\"\n",
              "              title=\"Convert this dataframe to an interactive table.\"\n",
              "              style=\"display:none;\">\n",
              "        \n",
              "  <svg xmlns=\"http://www.w3.org/2000/svg\" height=\"24px\"viewBox=\"0 0 24 24\"\n",
              "       width=\"24px\">\n",
              "    <path d=\"M0 0h24v24H0V0z\" fill=\"none\"/>\n",
              "    <path d=\"M18.56 5.44l.94 2.06.94-2.06 2.06-.94-2.06-.94-.94-2.06-.94 2.06-2.06.94zm-11 1L8.5 8.5l.94-2.06 2.06-.94-2.06-.94L8.5 2.5l-.94 2.06-2.06.94zm10 10l.94 2.06.94-2.06 2.06-.94-2.06-.94-.94-2.06-.94 2.06-2.06.94z\"/><path d=\"M17.41 7.96l-1.37-1.37c-.4-.4-.92-.59-1.43-.59-.52 0-1.04.2-1.43.59L10.3 9.45l-7.72 7.72c-.78.78-.78 2.05 0 2.83L4 21.41c.39.39.9.59 1.41.59.51 0 1.02-.2 1.41-.59l7.78-7.78 2.81-2.81c.8-.78.8-2.07 0-2.86zM5.41 20L4 18.59l7.72-7.72 1.47 1.35L5.41 20z\"/>\n",
              "  </svg>\n",
              "      </button>\n",
              "      \n",
              "  <style>\n",
              "    .colab-df-container {\n",
              "      display:flex;\n",
              "      flex-wrap:wrap;\n",
              "      gap: 12px;\n",
              "    }\n",
              "\n",
              "    .colab-df-convert {\n",
              "      background-color: #E8F0FE;\n",
              "      border: none;\n",
              "      border-radius: 50%;\n",
              "      cursor: pointer;\n",
              "      display: none;\n",
              "      fill: #1967D2;\n",
              "      height: 32px;\n",
              "      padding: 0 0 0 0;\n",
              "      width: 32px;\n",
              "    }\n",
              "\n",
              "    .colab-df-convert:hover {\n",
              "      background-color: #E2EBFA;\n",
              "      box-shadow: 0px 1px 2px rgba(60, 64, 67, 0.3), 0px 1px 3px 1px rgba(60, 64, 67, 0.15);\n",
              "      fill: #174EA6;\n",
              "    }\n",
              "\n",
              "    [theme=dark] .colab-df-convert {\n",
              "      background-color: #3B4455;\n",
              "      fill: #D2E3FC;\n",
              "    }\n",
              "\n",
              "    [theme=dark] .colab-df-convert:hover {\n",
              "      background-color: #434B5C;\n",
              "      box-shadow: 0px 1px 3px 1px rgba(0, 0, 0, 0.15);\n",
              "      filter: drop-shadow(0px 1px 2px rgba(0, 0, 0, 0.3));\n",
              "      fill: #FFFFFF;\n",
              "    }\n",
              "  </style>\n",
              "\n",
              "      <script>\n",
              "        const buttonEl =\n",
              "          document.querySelector('#df-242d65ec-e517-4f9c-b7e5-baeef1271d4e button.colab-df-convert');\n",
              "        buttonEl.style.display =\n",
              "          google.colab.kernel.accessAllowed ? 'block' : 'none';\n",
              "\n",
              "        async function convertToInteractive(key) {\n",
              "          const element = document.querySelector('#df-242d65ec-e517-4f9c-b7e5-baeef1271d4e');\n",
              "          const dataTable =\n",
              "            await google.colab.kernel.invokeFunction('convertToInteractive',\n",
              "                                                     [key], {});\n",
              "          if (!dataTable) return;\n",
              "\n",
              "          const docLinkHtml = 'Like what you see? Visit the ' +\n",
              "            '<a target=\"_blank\" href=https://colab.research.google.com/notebooks/data_table.ipynb>data table notebook</a>'\n",
              "            + ' to learn more about interactive tables.';\n",
              "          element.innerHTML = '';\n",
              "          dataTable['output_type'] = 'display_data';\n",
              "          await google.colab.output.renderOutput(dataTable, element);\n",
              "          const docLink = document.createElement('div');\n",
              "          docLink.innerHTML = docLinkHtml;\n",
              "          element.appendChild(docLink);\n",
              "        }\n",
              "      </script>\n",
              "    </div>\n",
              "  </div>\n",
              "  "
            ],
            "text/plain": [
              "                    Open   High    Low  Close    Volume\n",
              "Date                                                   \n",
              "4/1/2015 16:00:00  40.60  40.76  40.31  40.72  36865322\n",
              "4/2/2015 16:00:00  40.66  40.74  40.12  40.29  37487476\n",
              "4/6/2015 16:00:00  40.34  41.78  40.18  41.55  39223692\n",
              "4/7/2015 16:00:00  41.61  41.91  41.31  41.53  28809375\n",
              "4/8/2015 16:00:00  41.48  41.69  41.04  41.42  24753438"
            ]
          },
          "metadata": {},
          "execution_count": 438
        }
      ]
    },
    {
      "cell_type": "code",
      "source": [
        "money_df=money_df[['Close']]\n",
        "type(money_df['Close']) == type(money_df[['Close']]) "
      ],
      "metadata": {
        "colab": {
          "base_uri": "https://localhost:8080/"
        },
        "id": "mooXz2r7aN6C",
        "outputId": "c0f4cb26-f314-4e5e-85ee-490ad14af76d"
      },
      "execution_count": 439,
      "outputs": [
        {
          "output_type": "execute_result",
          "data": {
            "text/plain": [
              "False"
            ]
          },
          "metadata": {},
          "execution_count": 439
        }
      ]
    },
    {
      "cell_type": "code",
      "source": [
        "money_df.describe()"
      ],
      "metadata": {
        "colab": {
          "base_uri": "https://localhost:8080/",
          "height": 300
        },
        "id": "t3CNxcLVa7Wu",
        "outputId": "58e109aa-9837-4d23-bc26-a59fae6cf595"
      },
      "execution_count": 440,
      "outputs": [
        {
          "output_type": "execute_result",
          "data": {
            "text/html": [
              "\n",
              "  <div id=\"df-ada09a3d-2ce7-40bf-9908-0ec989c6c182\">\n",
              "    <div class=\"colab-df-container\">\n",
              "      <div>\n",
              "<style scoped>\n",
              "    .dataframe tbody tr th:only-of-type {\n",
              "        vertical-align: middle;\n",
              "    }\n",
              "\n",
              "    .dataframe tbody tr th {\n",
              "        vertical-align: top;\n",
              "    }\n",
              "\n",
              "    .dataframe thead th {\n",
              "        text-align: right;\n",
              "    }\n",
              "</style>\n",
              "<table border=\"1\" class=\"dataframe\">\n",
              "  <thead>\n",
              "    <tr style=\"text-align: right;\">\n",
              "      <th></th>\n",
              "      <th>Close</th>\n",
              "    </tr>\n",
              "  </thead>\n",
              "  <tbody>\n",
              "    <tr>\n",
              "      <th>count</th>\n",
              "      <td>1511.000000</td>\n",
              "    </tr>\n",
              "    <tr>\n",
              "      <th>mean</th>\n",
              "      <td>107.422091</td>\n",
              "    </tr>\n",
              "    <tr>\n",
              "      <th>std</th>\n",
              "      <td>56.702299</td>\n",
              "    </tr>\n",
              "    <tr>\n",
              "      <th>min</th>\n",
              "      <td>40.290000</td>\n",
              "    </tr>\n",
              "    <tr>\n",
              "      <th>25%</th>\n",
              "      <td>57.855000</td>\n",
              "    </tr>\n",
              "    <tr>\n",
              "      <th>50%</th>\n",
              "      <td>93.860000</td>\n",
              "    </tr>\n",
              "    <tr>\n",
              "      <th>75%</th>\n",
              "      <td>138.965000</td>\n",
              "    </tr>\n",
              "    <tr>\n",
              "      <th>max</th>\n",
              "      <td>244.990000</td>\n",
              "    </tr>\n",
              "  </tbody>\n",
              "</table>\n",
              "</div>\n",
              "      <button class=\"colab-df-convert\" onclick=\"convertToInteractive('df-ada09a3d-2ce7-40bf-9908-0ec989c6c182')\"\n",
              "              title=\"Convert this dataframe to an interactive table.\"\n",
              "              style=\"display:none;\">\n",
              "        \n",
              "  <svg xmlns=\"http://www.w3.org/2000/svg\" height=\"24px\"viewBox=\"0 0 24 24\"\n",
              "       width=\"24px\">\n",
              "    <path d=\"M0 0h24v24H0V0z\" fill=\"none\"/>\n",
              "    <path d=\"M18.56 5.44l.94 2.06.94-2.06 2.06-.94-2.06-.94-.94-2.06-.94 2.06-2.06.94zm-11 1L8.5 8.5l.94-2.06 2.06-.94-2.06-.94L8.5 2.5l-.94 2.06-2.06.94zm10 10l.94 2.06.94-2.06 2.06-.94-2.06-.94-.94-2.06-.94 2.06-2.06.94z\"/><path d=\"M17.41 7.96l-1.37-1.37c-.4-.4-.92-.59-1.43-.59-.52 0-1.04.2-1.43.59L10.3 9.45l-7.72 7.72c-.78.78-.78 2.05 0 2.83L4 21.41c.39.39.9.59 1.41.59.51 0 1.02-.2 1.41-.59l7.78-7.78 2.81-2.81c.8-.78.8-2.07 0-2.86zM5.41 20L4 18.59l7.72-7.72 1.47 1.35L5.41 20z\"/>\n",
              "  </svg>\n",
              "      </button>\n",
              "      \n",
              "  <style>\n",
              "    .colab-df-container {\n",
              "      display:flex;\n",
              "      flex-wrap:wrap;\n",
              "      gap: 12px;\n",
              "    }\n",
              "\n",
              "    .colab-df-convert {\n",
              "      background-color: #E8F0FE;\n",
              "      border: none;\n",
              "      border-radius: 50%;\n",
              "      cursor: pointer;\n",
              "      display: none;\n",
              "      fill: #1967D2;\n",
              "      height: 32px;\n",
              "      padding: 0 0 0 0;\n",
              "      width: 32px;\n",
              "    }\n",
              "\n",
              "    .colab-df-convert:hover {\n",
              "      background-color: #E2EBFA;\n",
              "      box-shadow: 0px 1px 2px rgba(60, 64, 67, 0.3), 0px 1px 3px 1px rgba(60, 64, 67, 0.15);\n",
              "      fill: #174EA6;\n",
              "    }\n",
              "\n",
              "    [theme=dark] .colab-df-convert {\n",
              "      background-color: #3B4455;\n",
              "      fill: #D2E3FC;\n",
              "    }\n",
              "\n",
              "    [theme=dark] .colab-df-convert:hover {\n",
              "      background-color: #434B5C;\n",
              "      box-shadow: 0px 1px 3px 1px rgba(0, 0, 0, 0.15);\n",
              "      filter: drop-shadow(0px 1px 2px rgba(0, 0, 0, 0.3));\n",
              "      fill: #FFFFFF;\n",
              "    }\n",
              "  </style>\n",
              "\n",
              "      <script>\n",
              "        const buttonEl =\n",
              "          document.querySelector('#df-ada09a3d-2ce7-40bf-9908-0ec989c6c182 button.colab-df-convert');\n",
              "        buttonEl.style.display =\n",
              "          google.colab.kernel.accessAllowed ? 'block' : 'none';\n",
              "\n",
              "        async function convertToInteractive(key) {\n",
              "          const element = document.querySelector('#df-ada09a3d-2ce7-40bf-9908-0ec989c6c182');\n",
              "          const dataTable =\n",
              "            await google.colab.kernel.invokeFunction('convertToInteractive',\n",
              "                                                     [key], {});\n",
              "          if (!dataTable) return;\n",
              "\n",
              "          const docLinkHtml = 'Like what you see? Visit the ' +\n",
              "            '<a target=\"_blank\" href=https://colab.research.google.com/notebooks/data_table.ipynb>data table notebook</a>'\n",
              "            + ' to learn more about interactive tables.';\n",
              "          element.innerHTML = '';\n",
              "          dataTable['output_type'] = 'display_data';\n",
              "          await google.colab.output.renderOutput(dataTable, element);\n",
              "          const docLink = document.createElement('div');\n",
              "          docLink.innerHTML = docLinkHtml;\n",
              "          element.appendChild(docLink);\n",
              "        }\n",
              "      </script>\n",
              "    </div>\n",
              "  </div>\n",
              "  "
            ],
            "text/plain": [
              "             Close\n",
              "count  1511.000000\n",
              "mean    107.422091\n",
              "std      56.702299\n",
              "min      40.290000\n",
              "25%      57.855000\n",
              "50%      93.860000\n",
              "75%     138.965000\n",
              "max     244.990000"
            ]
          },
          "metadata": {},
          "execution_count": 440
        }
      ]
    },
    {
      "cell_type": "code",
      "source": [
        "plt.figure(1, figsize=(10,4))\n",
        "plt.plot(money_df.Close)"
      ],
      "metadata": {
        "colab": {
          "base_uri": "https://localhost:8080/",
          "height": 282
        },
        "id": "nVH8gsBRbOW9",
        "outputId": "aa8f5a63-55d6-43fd-bd06-b9098e0c16c3"
      },
      "execution_count": 441,
      "outputs": [
        {
          "output_type": "execute_result",
          "data": {
            "text/plain": [
              "[<matplotlib.lines.Line2D at 0x7fa3c2d5bf50>]"
            ]
          },
          "metadata": {},
          "execution_count": 441
        },
        {
          "output_type": "display_data",
          "data": {
            "image/png": "[encoded data removed]",
            "text/plain": [
              "<Figure size 720x288 with 1 Axes>"
            ]
          },
          "metadata": {
            "needs_background": "light"
          }
        }
      ]
    },
    {
      "cell_type": "code",
      "source": [
        "# because we want a stationary process\n",
        "money_df['pct_change'] = money_df.Close.pct_change()\n",
        "money_df.head()"
      ],
      "metadata": {
        "colab": {
          "base_uri": "https://localhost:8080/",
          "height": 237
        },
        "id": "qXq_syzAb0r5",
        "outputId": "d95ca309-46cc-4e8f-c392-e107f28de453"
      },
      "execution_count": 442,
      "outputs": [
        {
          "output_type": "execute_result",
          "data": {
            "text/html": [
              "\n",
              "  <div id=\"df-d1b4ee9b-ade6-4104-b99f-0707862b8b74\">\n",
              "    <div class=\"colab-df-container\">\n",
              "      <div>\n",
              "<style scoped>\n",
              "    .dataframe tbody tr th:only-of-type {\n",
              "        vertical-align: middle;\n",
              "    }\n",
              "\n",
              "    .dataframe tbody tr th {\n",
              "        vertical-align: top;\n",
              "    }\n",
              "\n",
              "    .dataframe thead th {\n",
              "        text-align: right;\n",
              "    }\n",
              "</style>\n",
              "<table border=\"1\" class=\"dataframe\">\n",
              "  <thead>\n",
              "    <tr style=\"text-align: right;\">\n",
              "      <th></th>\n",
              "      <th>Close</th>\n",
              "      <th>pct_change</th>\n",
              "    </tr>\n",
              "    <tr>\n",
              "      <th>Date</th>\n",
              "      <th></th>\n",
              "      <th></th>\n",
              "    </tr>\n",
              "  </thead>\n",
              "  <tbody>\n",
              "    <tr>\n",
              "      <th>4/1/2015 16:00:00</th>\n",
              "      <td>40.72</td>\n",
              "      <td>NaN</td>\n",
              "    </tr>\n",
              "    <tr>\n",
              "      <th>4/2/2015 16:00:00</th>\n",
              "      <td>40.29</td>\n",
              "      <td>-0.010560</td>\n",
              "    </tr>\n",
              "    <tr>\n",
              "      <th>4/6/2015 16:00:00</th>\n",
              "      <td>41.55</td>\n",
              "      <td>0.031273</td>\n",
              "    </tr>\n",
              "    <tr>\n",
              "      <th>4/7/2015 16:00:00</th>\n",
              "      <td>41.53</td>\n",
              "      <td>-0.000481</td>\n",
              "    </tr>\n",
              "    <tr>\n",
              "      <th>4/8/2015 16:00:00</th>\n",
              "      <td>41.42</td>\n",
              "      <td>-0.002649</td>\n",
              "    </tr>\n",
              "  </tbody>\n",
              "</table>\n",
              "</div>\n",
              "      <button class=\"colab-df-convert\" onclick=\"convertToInteractive('df-d1b4ee9b-ade6-4104-b99f-0707862b8b74')\"\n",
              "              title=\"Convert this dataframe to an interactive table.\"\n",
              "              style=\"display:none;\">\n",
              "        \n",
              "  <svg xmlns=\"http://www.w3.org/2000/svg\" height=\"24px\"viewBox=\"0 0 24 24\"\n",
              "       width=\"24px\">\n",
              "    <path d=\"M0 0h24v24H0V0z\" fill=\"none\"/>\n",
              "    <path d=\"M18.56 5.44l.94 2.06.94-2.06 2.06-.94-2.06-.94-.94-2.06-.94 2.06-2.06.94zm-11 1L8.5 8.5l.94-2.06 2.06-.94-2.06-.94L8.5 2.5l-.94 2.06-2.06.94zm10 10l.94 2.06.94-2.06 2.06-.94-2.06-.94-.94-2.06-.94 2.06-2.06.94z\"/><path d=\"M17.41 7.96l-1.37-1.37c-.4-.4-.92-.59-1.43-.59-.52 0-1.04.2-1.43.59L10.3 9.45l-7.72 7.72c-.78.78-.78 2.05 0 2.83L4 21.41c.39.39.9.59 1.41.59.51 0 1.02-.2 1.41-.59l7.78-7.78 2.81-2.81c.8-.78.8-2.07 0-2.86zM5.41 20L4 18.59l7.72-7.72 1.47 1.35L5.41 20z\"/>\n",
              "  </svg>\n",
              "      </button>\n",
              "      \n",
              "  <style>\n",
              "    .colab-df-container {\n",
              "      display:flex;\n",
              "      flex-wrap:wrap;\n",
              "      gap: 12px;\n",
              "    }\n",
              "\n",
              "    .colab-df-convert {\n",
              "      background-color: #E8F0FE;\n",
              "      border: none;\n",
              "      border-radius: 50%;\n",
              "      cursor: pointer;\n",
              "      display: none;\n",
              "      fill: #1967D2;\n",
              "      height: 32px;\n",
              "      padding: 0 0 0 0;\n",
              "      width: 32px;\n",
              "    }\n",
              "\n",
              "    .colab-df-convert:hover {\n",
              "      background-color: #E2EBFA;\n",
              "      box-shadow: 0px 1px 2px rgba(60, 64, 67, 0.3), 0px 1px 3px 1px rgba(60, 64, 67, 0.15);\n",
              "      fill: #174EA6;\n",
              "    }\n",
              "\n",
              "    [theme=dark] .colab-df-convert {\n",
              "      background-color: #3B4455;\n",
              "      fill: #D2E3FC;\n",
              "    }\n",
              "\n",
              "    [theme=dark] .colab-df-convert:hover {\n",
              "      background-color: #434B5C;\n",
              "      box-shadow: 0px 1px 3px 1px rgba(0, 0, 0, 0.15);\n",
              "      filter: drop-shadow(0px 1px 2px rgba(0, 0, 0, 0.3));\n",
              "      fill: #FFFFFF;\n",
              "    }\n",
              "  </style>\n",
              "\n",
              "      <script>\n",
              "        const buttonEl =\n",
              "          document.querySelector('#df-d1b4ee9b-ade6-4104-b99f-0707862b8b74 button.colab-df-convert');\n",
              "        buttonEl.style.display =\n",
              "          google.colab.kernel.accessAllowed ? 'block' : 'none';\n",
              "\n",
              "        async function convertToInteractive(key) {\n",
              "          const element = document.querySelector('#df-d1b4ee9b-ade6-4104-b99f-0707862b8b74');\n",
              "          const dataTable =\n",
              "            await google.colab.kernel.invokeFunction('convertToInteractive',\n",
              "                                                     [key], {});\n",
              "          if (!dataTable) return;\n",
              "\n",
              "          const docLinkHtml = 'Like what you see? Visit the ' +\n",
              "            '<a target=\"_blank\" href=https://colab.research.google.com/notebooks/data_table.ipynb>data table notebook</a>'\n",
              "            + ' to learn more about interactive tables.';\n",
              "          element.innerHTML = '';\n",
              "          dataTable['output_type'] = 'display_data';\n",
              "          await google.colab.output.renderOutput(dataTable, element);\n",
              "          const docLink = document.createElement('div');\n",
              "          docLink.innerHTML = docLinkHtml;\n",
              "          element.appendChild(docLink);\n",
              "        }\n",
              "      </script>\n",
              "    </div>\n",
              "  </div>\n",
              "  "
            ],
            "text/plain": [
              "                   Close  pct_change\n",
              "Date                                \n",
              "4/1/2015 16:00:00  40.72         NaN\n",
              "4/2/2015 16:00:00  40.29   -0.010560\n",
              "4/6/2015 16:00:00  41.55    0.031273\n",
              "4/7/2015 16:00:00  41.53   -0.000481\n",
              "4/8/2015 16:00:00  41.42   -0.002649"
            ]
          },
          "metadata": {},
          "execution_count": 442
        }
      ]
    },
    {
      "cell_type": "code",
      "source": [
        "# https://quantivity.wordpress.com/2011/02/21/why-log-returns/ -- explanation WHY\n",
        "money_df['log_returns'] = np.log(1 + money_df['pct_change'])\n",
        "money_df.head()"
      ],
      "metadata": {
        "colab": {
          "base_uri": "https://localhost:8080/",
          "height": 237
        },
        "id": "tAnVZXdxe28S",
        "outputId": "5c9b70b7-90ff-4baf-e6d8-7faca5fafbed"
      },
      "execution_count": 443,
      "outputs": [
        {
          "output_type": "execute_result",
          "data": {
            "text/html": [
              "\n",
              "  <div id=\"df-cb0d933d-8b69-4171-922b-4bfca4bec23c\">\n",
              "    <div class=\"colab-df-container\">\n",
              "      <div>\n",
              "<style scoped>\n",
              "    .dataframe tbody tr th:only-of-type {\n",
              "        vertical-align: middle;\n",
              "    }\n",
              "\n",
              "    .dataframe tbody tr th {\n",
              "        vertical-align: top;\n",
              "    }\n",
              "\n",
              "    .dataframe thead th {\n",
              "        text-align: right;\n",
              "    }\n",
              "</style>\n",
              "<table border=\"1\" class=\"dataframe\">\n",
              "  <thead>\n",
              "    <tr style=\"text-align: right;\">\n",
              "      <th></th>\n",
              "      <th>Close</th>\n",
              "      <th>pct_change</th>\n",
              "      <th>log_returns</th>\n",
              "    </tr>\n",
              "    <tr>\n",
              "      <th>Date</th>\n",
              "      <th></th>\n",
              "      <th></th>\n",
              "      <th></th>\n",
              "    </tr>\n",
              "  </thead>\n",
              "  <tbody>\n",
              "    <tr>\n",
              "      <th>4/1/2015 16:00:00</th>\n",
              "      <td>40.72</td>\n",
              "      <td>NaN</td>\n",
              "      <td>NaN</td>\n",
              "    </tr>\n",
              "    <tr>\n",
              "      <th>4/2/2015 16:00:00</th>\n",
              "      <td>40.29</td>\n",
              "      <td>-0.010560</td>\n",
              "      <td>-0.010616</td>\n",
              "    </tr>\n",
              "    <tr>\n",
              "      <th>4/6/2015 16:00:00</th>\n",
              "      <td>41.55</td>\n",
              "      <td>0.031273</td>\n",
              "      <td>0.030794</td>\n",
              "    </tr>\n",
              "    <tr>\n",
              "      <th>4/7/2015 16:00:00</th>\n",
              "      <td>41.53</td>\n",
              "      <td>-0.000481</td>\n",
              "      <td>-0.000481</td>\n",
              "    </tr>\n",
              "    <tr>\n",
              "      <th>4/8/2015 16:00:00</th>\n",
              "      <td>41.42</td>\n",
              "      <td>-0.002649</td>\n",
              "      <td>-0.002652</td>\n",
              "    </tr>\n",
              "  </tbody>\n",
              "</table>\n",
              "</div>\n",
              "      <button class=\"colab-df-convert\" onclick=\"convertToInteractive('df-cb0d933d-8b69-4171-922b-4bfca4bec23c')\"\n",
              "              title=\"Convert this dataframe to an interactive table.\"\n",
              "              style=\"display:none;\">\n",
              "        \n",
              "  <svg xmlns=\"http://www.w3.org/2000/svg\" height=\"24px\"viewBox=\"0 0 24 24\"\n",
              "       width=\"24px\">\n",
              "    <path d=\"M0 0h24v24H0V0z\" fill=\"none\"/>\n",
              "    <path d=\"M18.56 5.44l.94 2.06.94-2.06 2.06-.94-2.06-.94-.94-2.06-.94 2.06-2.06.94zm-11 1L8.5 8.5l.94-2.06 2.06-.94-2.06-.94L8.5 2.5l-.94 2.06-2.06.94zm10 10l.94 2.06.94-2.06 2.06-.94-2.06-.94-.94-2.06-.94 2.06-2.06.94z\"/><path d=\"M17.41 7.96l-1.37-1.37c-.4-.4-.92-.59-1.43-.59-.52 0-1.04.2-1.43.59L10.3 9.45l-7.72 7.72c-.78.78-.78 2.05 0 2.83L4 21.41c.39.39.9.59 1.41.59.51 0 1.02-.2 1.41-.59l7.78-7.78 2.81-2.81c.8-.78.8-2.07 0-2.86zM5.41 20L4 18.59l7.72-7.72 1.47 1.35L5.41 20z\"/>\n",
              "  </svg>\n",
              "      </button>\n",
              "      \n",
              "  <style>\n",
              "    .colab-df-container {\n",
              "      display:flex;\n",
              "      flex-wrap:wrap;\n",
              "      gap: 12px;\n",
              "    }\n",
              "\n",
              "    .colab-df-convert {\n",
              "      background-color: #E8F0FE;\n",
              "      border: none;\n",
              "      border-radius: 50%;\n",
              "      cursor: pointer;\n",
              "      display: none;\n",
              "      fill: #1967D2;\n",
              "      height: 32px;\n",
              "      padding: 0 0 0 0;\n",
              "      width: 32px;\n",
              "    }\n",
              "\n",
              "    .colab-df-convert:hover {\n",
              "      background-color: #E2EBFA;\n",
              "      box-shadow: 0px 1px 2px rgba(60, 64, 67, 0.3), 0px 1px 3px 1px rgba(60, 64, 67, 0.15);\n",
              "      fill: #174EA6;\n",
              "    }\n",
              "\n",
              "    [theme=dark] .colab-df-convert {\n",
              "      background-color: #3B4455;\n",
              "      fill: #D2E3FC;\n",
              "    }\n",
              "\n",
              "    [theme=dark] .colab-df-convert:hover {\n",
              "      background-color: #434B5C;\n",
              "      box-shadow: 0px 1px 3px 1px rgba(0, 0, 0, 0.15);\n",
              "      filter: drop-shadow(0px 1px 2px rgba(0, 0, 0, 0.3));\n",
              "      fill: #FFFFFF;\n",
              "    }\n",
              "  </style>\n",
              "\n",
              "      <script>\n",
              "        const buttonEl =\n",
              "          document.querySelector('#df-cb0d933d-8b69-4171-922b-4bfca4bec23c button.colab-df-convert');\n",
              "        buttonEl.style.display =\n",
              "          google.colab.kernel.accessAllowed ? 'block' : 'none';\n",
              "\n",
              "        async function convertToInteractive(key) {\n",
              "          const element = document.querySelector('#df-cb0d933d-8b69-4171-922b-4bfca4bec23c');\n",
              "          const dataTable =\n",
              "            await google.colab.kernel.invokeFunction('convertToInteractive',\n",
              "                                                     [key], {});\n",
              "          if (!dataTable) return;\n",
              "\n",
              "          const docLinkHtml = 'Like what you see? Visit the ' +\n",
              "            '<a target=\"_blank\" href=https://colab.research.google.com/notebooks/data_table.ipynb>data table notebook</a>'\n",
              "            + ' to learn more about interactive tables.';\n",
              "          element.innerHTML = '';\n",
              "          dataTable['output_type'] = 'display_data';\n",
              "          await google.colab.output.renderOutput(dataTable, element);\n",
              "          const docLink = document.createElement('div');\n",
              "          docLink.innerHTML = docLinkHtml;\n",
              "          element.appendChild(docLink);\n",
              "        }\n",
              "      </script>\n",
              "    </div>\n",
              "  </div>\n",
              "  "
            ],
            "text/plain": [
              "                   Close  pct_change  log_returns\n",
              "Date                                             \n",
              "4/1/2015 16:00:00  40.72         NaN          NaN\n",
              "4/2/2015 16:00:00  40.29   -0.010560    -0.010616\n",
              "4/6/2015 16:00:00  41.55    0.031273     0.030794\n",
              "4/7/2015 16:00:00  41.53   -0.000481    -0.000481\n",
              "4/8/2015 16:00:00  41.42   -0.002649    -0.002652"
            ]
          },
          "metadata": {},
          "execution_count": 443
        }
      ]
    },
    {
      "cell_type": "code",
      "source": [
        "# Now we can see that the mean is always around zero, but there are outliers\n",
        "plt.figure(1, figsize=(10,4)) \n",
        "plt.plot(money_df.log_returns)"
      ],
      "metadata": {
        "colab": {
          "base_uri": "https://localhost:8080/",
          "height": 282
        },
        "id": "gtCS4hl5giYJ",
        "outputId": "5c55f349-a41c-42d0-833e-e28d5cba9be0"
      },
      "execution_count": 444,
      "outputs": [
        {
          "output_type": "execute_result",
          "data": {
            "text/plain": [
              "[<matplotlib.lines.Line2D at 0x7fa3c4bf4a90>]"
            ]
          },
          "metadata": {},
          "execution_count": 444
        },
        {
          "output_type": "display_data",
          "data": {
            "image/png": "[encoded data removed]",
            "text/plain": [
              "<Figure size 720x288 with 1 Axes>"
            ]
          },
          "metadata": {
            "needs_background": "light"
          }
        }
      ]
    },
    {
      "cell_type": "code",
      "source": [
        "money_df.dropna(inplace=True)\n",
        "X = money_df[['Close', 'log_returns']].values\n",
        "X"
      ],
      "metadata": {
        "colab": {
          "base_uri": "https://localhost:8080/"
        },
        "id": "8hv02D8Shbja",
        "outputId": "aa8758d1-4b30-45a2-f685-665c51e57669"
      },
      "execution_count": 445,
      "outputs": [
        {
          "output_type": "execute_result",
          "data": {
            "text/plain": [
              "array([[ 4.02900000e+01, -1.06160730e-02],\n",
              "       [ 4.15500000e+01,  3.07942221e-02],\n",
              "       [ 4.15300000e+01, -4.81463659e-04],\n",
              "       ...,\n",
              "       [ 2.35240000e+02, -5.25736817e-03],\n",
              "       [ 2.31850000e+02, -1.45156588e-02],\n",
              "       [ 2.35770000e+02,  1.67661427e-02]])"
            ]
          },
          "metadata": {},
          "execution_count": 445
        }
      ]
    },
    {
      "cell_type": "code",
      "source": [
        "money_df.head()"
      ],
      "metadata": {
        "colab": {
          "base_uri": "https://localhost:8080/",
          "height": 237
        },
        "id": "iqPc6MHtWvkD",
        "outputId": "37d262ec-7ea9-4780-a4ef-b79a924632b4"
      },
      "execution_count": 446,
      "outputs": [
        {
          "output_type": "execute_result",
          "data": {
            "text/html": [
              "\n",
              "  <div id=\"df-56b0212a-cad0-4d48-959e-a4d64301e747\">\n",
              "    <div class=\"colab-df-container\">\n",
              "      <div>\n",
              "<style scoped>\n",
              "    .dataframe tbody tr th:only-of-type {\n",
              "        vertical-align: middle;\n",
              "    }\n",
              "\n",
              "    .dataframe tbody tr th {\n",
              "        vertical-align: top;\n",
              "    }\n",
              "\n",
              "    .dataframe thead th {\n",
              "        text-align: right;\n",
              "    }\n",
              "</style>\n",
              "<table border=\"1\" class=\"dataframe\">\n",
              "  <thead>\n",
              "    <tr style=\"text-align: right;\">\n",
              "      <th></th>\n",
              "      <th>Close</th>\n",
              "      <th>pct_change</th>\n",
              "      <th>log_returns</th>\n",
              "    </tr>\n",
              "    <tr>\n",
              "      <th>Date</th>\n",
              "      <th></th>\n",
              "      <th></th>\n",
              "      <th></th>\n",
              "    </tr>\n",
              "  </thead>\n",
              "  <tbody>\n",
              "    <tr>\n",
              "      <th>4/2/2015 16:00:00</th>\n",
              "      <td>40.29</td>\n",
              "      <td>-0.010560</td>\n",
              "      <td>-0.010616</td>\n",
              "    </tr>\n",
              "    <tr>\n",
              "      <th>4/6/2015 16:00:00</th>\n",
              "      <td>41.55</td>\n",
              "      <td>0.031273</td>\n",
              "      <td>0.030794</td>\n",
              "    </tr>\n",
              "    <tr>\n",
              "      <th>4/7/2015 16:00:00</th>\n",
              "      <td>41.53</td>\n",
              "      <td>-0.000481</td>\n",
              "      <td>-0.000481</td>\n",
              "    </tr>\n",
              "    <tr>\n",
              "      <th>4/8/2015 16:00:00</th>\n",
              "      <td>41.42</td>\n",
              "      <td>-0.002649</td>\n",
              "      <td>-0.002652</td>\n",
              "    </tr>\n",
              "    <tr>\n",
              "      <th>4/9/2015 16:00:00</th>\n",
              "      <td>41.48</td>\n",
              "      <td>0.001449</td>\n",
              "      <td>0.001448</td>\n",
              "    </tr>\n",
              "  </tbody>\n",
              "</table>\n",
              "</div>\n",
              "      <button class=\"colab-df-convert\" onclick=\"convertToInteractive('df-56b0212a-cad0-4d48-959e-a4d64301e747')\"\n",
              "              title=\"Convert this dataframe to an interactive table.\"\n",
              "              style=\"display:none;\">\n",
              "        \n",
              "  <svg xmlns=\"http://www.w3.org/2000/svg\" height=\"24px\"viewBox=\"0 0 24 24\"\n",
              "       width=\"24px\">\n",
              "    <path d=\"M0 0h24v24H0V0z\" fill=\"none\"/>\n",
              "    <path d=\"M18.56 5.44l.94 2.06.94-2.06 2.06-.94-2.06-.94-.94-2.06-.94 2.06-2.06.94zm-11 1L8.5 8.5l.94-2.06 2.06-.94-2.06-.94L8.5 2.5l-.94 2.06-2.06.94zm10 10l.94 2.06.94-2.06 2.06-.94-2.06-.94-.94-2.06-.94 2.06-2.06.94z\"/><path d=\"M17.41 7.96l-1.37-1.37c-.4-.4-.92-.59-1.43-.59-.52 0-1.04.2-1.43.59L10.3 9.45l-7.72 7.72c-.78.78-.78 2.05 0 2.83L4 21.41c.39.39.9.59 1.41.59.51 0 1.02-.2 1.41-.59l7.78-7.78 2.81-2.81c.8-.78.8-2.07 0-2.86zM5.41 20L4 18.59l7.72-7.72 1.47 1.35L5.41 20z\"/>\n",
              "  </svg>\n",
              "      </button>\n",
              "      \n",
              "  <style>\n",
              "    .colab-df-container {\n",
              "      display:flex;\n",
              "      flex-wrap:wrap;\n",
              "      gap: 12px;\n",
              "    }\n",
              "\n",
              "    .colab-df-convert {\n",
              "      background-color: #E8F0FE;\n",
              "      border: none;\n",
              "      border-radius: 50%;\n",
              "      cursor: pointer;\n",
              "      display: none;\n",
              "      fill: #1967D2;\n",
              "      height: 32px;\n",
              "      padding: 0 0 0 0;\n",
              "      width: 32px;\n",
              "    }\n",
              "\n",
              "    .colab-df-convert:hover {\n",
              "      background-color: #E2EBFA;\n",
              "      box-shadow: 0px 1px 2px rgba(60, 64, 67, 0.3), 0px 1px 3px 1px rgba(60, 64, 67, 0.15);\n",
              "      fill: #174EA6;\n",
              "    }\n",
              "\n",
              "    [theme=dark] .colab-df-convert {\n",
              "      background-color: #3B4455;\n",
              "      fill: #D2E3FC;\n",
              "    }\n",
              "\n",
              "    [theme=dark] .colab-df-convert:hover {\n",
              "      background-color: #434B5C;\n",
              "      box-shadow: 0px 1px 3px 1px rgba(0, 0, 0, 0.15);\n",
              "      filter: drop-shadow(0px 1px 2px rgba(0, 0, 0, 0.3));\n",
              "      fill: #FFFFFF;\n",
              "    }\n",
              "  </style>\n",
              "\n",
              "      <script>\n",
              "        const buttonEl =\n",
              "          document.querySelector('#df-56b0212a-cad0-4d48-959e-a4d64301e747 button.colab-df-convert');\n",
              "        buttonEl.style.display =\n",
              "          google.colab.kernel.accessAllowed ? 'block' : 'none';\n",
              "\n",
              "        async function convertToInteractive(key) {\n",
              "          const element = document.querySelector('#df-56b0212a-cad0-4d48-959e-a4d64301e747');\n",
              "          const dataTable =\n",
              "            await google.colab.kernel.invokeFunction('convertToInteractive',\n",
              "                                                     [key], {});\n",
              "          if (!dataTable) return;\n",
              "\n",
              "          const docLinkHtml = 'Like what you see? Visit the ' +\n",
              "            '<a target=\"_blank\" href=https://colab.research.google.com/notebooks/data_table.ipynb>data table notebook</a>'\n",
              "            + ' to learn more about interactive tables.';\n",
              "          element.innerHTML = '';\n",
              "          dataTable['output_type'] = 'display_data';\n",
              "          await google.colab.output.renderOutput(dataTable, element);\n",
              "          const docLink = document.createElement('div');\n",
              "          docLink.innerHTML = docLinkHtml;\n",
              "          element.appendChild(docLink);\n",
              "        }\n",
              "      </script>\n",
              "    </div>\n",
              "  </div>\n",
              "  "
            ],
            "text/plain": [
              "                   Close  pct_change  log_returns\n",
              "Date                                             \n",
              "4/2/2015 16:00:00  40.29   -0.010560    -0.010616\n",
              "4/6/2015 16:00:00  41.55    0.031273     0.030794\n",
              "4/7/2015 16:00:00  41.53   -0.000481    -0.000481\n",
              "4/8/2015 16:00:00  41.42   -0.002649    -0.002652\n",
              "4/9/2015 16:00:00  41.48    0.001449     0.001448"
            ]
          },
          "metadata": {},
          "execution_count": 446
        }
      ]
    },
    {
      "cell_type": "code",
      "source": [
        "from sklearn.preprocessing import MinMaxScaler\n",
        "scaler = MinMaxScaler(feature_range=(0, 1)).fit(X) # Data normalization\n",
        "X_scaled = scaler.transform(X)\n",
        "X_scaled"
      ],
      "metadata": {
        "colab": {
          "base_uri": "https://localhost:8080/"
        },
        "id": "GonrC790kAnw",
        "outputId": "818be6cd-cb22-4591-c10b-3f59a82bc965"
      },
      "execution_count": 447,
      "outputs": [
        {
          "output_type": "execute_result",
          "data": {
            "text/plain": [
              "array([[0.        , 0.50905029],\n",
              "       [0.00615535, 0.65068092],\n",
              "       [0.00605765, 0.54371247],\n",
              "       ...,\n",
              "       [0.95236932, 0.52737802],\n",
              "       [0.9358085 , 0.49571301],\n",
              "       [0.95495848, 0.60270237]])"
            ]
          },
          "metadata": {},
          "execution_count": 447
        }
      ]
    },
    {
      "cell_type": "code",
      "source": [
        "Y = [x[0] for x in X_scaled]\n",
        "Y[:5]"
      ],
      "metadata": {
        "colab": {
          "base_uri": "https://localhost:8080/"
        },
        "id": "I1Mzl1_akF2G",
        "outputId": "5ef60074-4b10-4700-b8ca-4508aaa2d5bc"
      },
      "execution_count": 448,
      "outputs": [
        {
          "output_type": "execute_result",
          "data": {
            "text/plain": [
              "[0.0,\n",
              " 0.006155349291646295,\n",
              " 0.006057645334636069,\n",
              " 0.005520273571079648,\n",
              " 0.00581338544211038]"
            ]
          },
          "metadata": {},
          "execution_count": 448
        }
      ]
    },
    {
      "cell_type": "code",
      "source": [
        "split = int(len(X_scaled)*0.6)\n",
        "X_train = X_scaled[:split]\n",
        "X_test = X_scaled[split : len(X_scaled)]\n",
        "Y_train = Y[:split]\n",
        "Y_test = Y[split : len(Y)]\n",
        "split = int(len(X_test)*0.5)\n",
        "X_val =  X_test[split : len(X_test)]\n",
        "X_test = X_test[:split]\n",
        "Y_val = Y_test[split : len(Y_test)] \n",
        "Y_test = Y_test[:split]"
      ],
      "metadata": {
        "id": "a6lz3OZMkICc"
      },
      "execution_count": 449,
      "outputs": []
    },
    {
      "cell_type": "code",
      "source": [
        "# LSTM of course\n",
        "n_steps = 3\n",
        "train_X = []\n",
        "train_Y = []\n",
        "test_X = []\n",
        "test_Y = []\n",
        "val_X = []\n",
        "val_Y = []\n",
        "for i in range(n_steps, len(X_train)):\n",
        "  train_X.append(X_train[i-n_steps:i, :X_train.shape[1]])\n",
        "  train_Y.append(Y_train[i])\n",
        "for i in range(n_steps, len(X_test)):\n",
        "  test_X.append(X_test[i-n_steps:i, :X_test.shape[1]])\n",
        "  test_Y.append(Y_test[i])\n",
        "for i in range(n_steps, len(X_val)):\n",
        "  val_X.append(X_val[i-n_steps:i, :X_val.shape[1]])\n",
        "  val_Y.append(Y_val[i])"
      ],
      "metadata": {
        "id": "1XkfqPeuuP8B"
      },
      "execution_count": 450,
      "outputs": []
    },
    {
      "cell_type": "code",
      "source": [
        "money_df.head()"
      ],
      "metadata": {
        "colab": {
          "base_uri": "https://localhost:8080/",
          "height": 237
        },
        "id": "DzHEWhnUwakt",
        "outputId": "6ae990a0-9c4d-4213-c4ed-b30f8812039f"
      },
      "execution_count": 451,
      "outputs": [
        {
          "output_type": "execute_result",
          "data": {
            "text/html": [
              "\n",
              "  <div id=\"df-11dcb9b2-caa1-495a-a1cc-a83ddb22df55\">\n",
              "    <div class=\"colab-df-container\">\n",
              "      <div>\n",
              "<style scoped>\n",
              "    .dataframe tbody tr th:only-of-type {\n",
              "        vertical-align: middle;\n",
              "    }\n",
              "\n",
              "    .dataframe tbody tr th {\n",
              "        vertical-align: top;\n",
              "    }\n",
              "\n",
              "    .dataframe thead th {\n",
              "        text-align: right;\n",
              "    }\n",
              "</style>\n",
              "<table border=\"1\" class=\"dataframe\">\n",
              "  <thead>\n",
              "    <tr style=\"text-align: right;\">\n",
              "      <th></th>\n",
              "      <th>Close</th>\n",
              "      <th>pct_change</th>\n",
              "      <th>log_returns</th>\n",
              "    </tr>\n",
              "    <tr>\n",
              "      <th>Date</th>\n",
              "      <th></th>\n",
              "      <th></th>\n",
              "      <th></th>\n",
              "    </tr>\n",
              "  </thead>\n",
              "  <tbody>\n",
              "    <tr>\n",
              "      <th>4/2/2015 16:00:00</th>\n",
              "      <td>40.29</td>\n",
              "      <td>-0.010560</td>\n",
              "      <td>-0.010616</td>\n",
              "    </tr>\n",
              "    <tr>\n",
              "      <th>4/6/2015 16:00:00</th>\n",
              "      <td>41.55</td>\n",
              "      <td>0.031273</td>\n",
              "      <td>0.030794</td>\n",
              "    </tr>\n",
              "    <tr>\n",
              "      <th>4/7/2015 16:00:00</th>\n",
              "      <td>41.53</td>\n",
              "      <td>-0.000481</td>\n",
              "      <td>-0.000481</td>\n",
              "    </tr>\n",
              "    <tr>\n",
              "      <th>4/8/2015 16:00:00</th>\n",
              "      <td>41.42</td>\n",
              "      <td>-0.002649</td>\n",
              "      <td>-0.002652</td>\n",
              "    </tr>\n",
              "    <tr>\n",
              "      <th>4/9/2015 16:00:00</th>\n",
              "      <td>41.48</td>\n",
              "      <td>0.001449</td>\n",
              "      <td>0.001448</td>\n",
              "    </tr>\n",
              "  </tbody>\n",
              "</table>\n",
              "</div>\n",
              "      <button class=\"colab-df-convert\" onclick=\"convertToInteractive('df-11dcb9b2-caa1-495a-a1cc-a83ddb22df55')\"\n",
              "              title=\"Convert this dataframe to an interactive table.\"\n",
              "              style=\"display:none;\">\n",
              "        \n",
              "  <svg xmlns=\"http://www.w3.org/2000/svg\" height=\"24px\"viewBox=\"0 0 24 24\"\n",
              "       width=\"24px\">\n",
              "    <path d=\"M0 0h24v24H0V0z\" fill=\"none\"/>\n",
              "    <path d=\"M18.56 5.44l.94 2.06.94-2.06 2.06-.94-2.06-.94-.94-2.06-.94 2.06-2.06.94zm-11 1L8.5 8.5l.94-2.06 2.06-.94-2.06-.94L8.5 2.5l-.94 2.06-2.06.94zm10 10l.94 2.06.94-2.06 2.06-.94-2.06-.94-.94-2.06-.94 2.06-2.06.94z\"/><path d=\"M17.41 7.96l-1.37-1.37c-.4-.4-.92-.59-1.43-.59-.52 0-1.04.2-1.43.59L10.3 9.45l-7.72 7.72c-.78.78-.78 2.05 0 2.83L4 21.41c.39.39.9.59 1.41.59.51 0 1.02-.2 1.41-.59l7.78-7.78 2.81-2.81c.8-.78.8-2.07 0-2.86zM5.41 20L4 18.59l7.72-7.72 1.47 1.35L5.41 20z\"/>\n",
              "  </svg>\n",
              "      </button>\n",
              "      \n",
              "  <style>\n",
              "    .colab-df-container {\n",
              "      display:flex;\n",
              "      flex-wrap:wrap;\n",
              "      gap: 12px;\n",
              "    }\n",
              "\n",
              "    .colab-df-convert {\n",
              "      background-color: #E8F0FE;\n",
              "      border: none;\n",
              "      border-radius: 50%;\n",
              "      cursor: pointer;\n",
              "      display: none;\n",
              "      fill: #1967D2;\n",
              "      height: 32px;\n",
              "      padding: 0 0 0 0;\n",
              "      width: 32px;\n",
              "    }\n",
              "\n",
              "    .colab-df-convert:hover {\n",
              "      background-color: #E2EBFA;\n",
              "      box-shadow: 0px 1px 2px rgba(60, 64, 67, 0.3), 0px 1px 3px 1px rgba(60, 64, 67, 0.15);\n",
              "      fill: #174EA6;\n",
              "    }\n",
              "\n",
              "    [theme=dark] .colab-df-convert {\n",
              "      background-color: #3B4455;\n",
              "      fill: #D2E3FC;\n",
              "    }\n",
              "\n",
              "    [theme=dark] .colab-df-convert:hover {\n",
              "      background-color: #434B5C;\n",
              "      box-shadow: 0px 1px 3px 1px rgba(0, 0, 0, 0.15);\n",
              "      filter: drop-shadow(0px 1px 2px rgba(0, 0, 0, 0.3));\n",
              "      fill: #FFFFFF;\n",
              "    }\n",
              "  </style>\n",
              "\n",
              "      <script>\n",
              "        const buttonEl =\n",
              "          document.querySelector('#df-11dcb9b2-caa1-495a-a1cc-a83ddb22df55 button.colab-df-convert');\n",
              "        buttonEl.style.display =\n",
              "          google.colab.kernel.accessAllowed ? 'block' : 'none';\n",
              "\n",
              "        async function convertToInteractive(key) {\n",
              "          const element = document.querySelector('#df-11dcb9b2-caa1-495a-a1cc-a83ddb22df55');\n",
              "          const dataTable =\n",
              "            await google.colab.kernel.invokeFunction('convertToInteractive',\n",
              "                                                     [key], {});\n",
              "          if (!dataTable) return;\n",
              "\n",
              "          const docLinkHtml = 'Like what you see? Visit the ' +\n",
              "            '<a target=\"_blank\" href=https://colab.research.google.com/notebooks/data_table.ipynb>data table notebook</a>'\n",
              "            + ' to learn more about interactive tables.';\n",
              "          element.innerHTML = '';\n",
              "          dataTable['output_type'] = 'display_data';\n",
              "          await google.colab.output.renderOutput(dataTable, element);\n",
              "          const docLink = document.createElement('div');\n",
              "          docLink.innerHTML = docLinkHtml;\n",
              "          element.appendChild(docLink);\n",
              "        }\n",
              "      </script>\n",
              "    </div>\n",
              "  </div>\n",
              "  "
            ],
            "text/plain": [
              "                   Close  pct_change  log_returns\n",
              "Date                                             \n",
              "4/2/2015 16:00:00  40.29   -0.010560    -0.010616\n",
              "4/6/2015 16:00:00  41.55    0.031273     0.030794\n",
              "4/7/2015 16:00:00  41.53   -0.000481    -0.000481\n",
              "4/8/2015 16:00:00  41.42   -0.002649    -0.002652\n",
              "4/9/2015 16:00:00  41.48    0.001449     0.001448"
            ]
          },
          "metadata": {},
          "execution_count": 451
        }
      ]
    },
    {
      "cell_type": "code",
      "source": [
        "train_X, train_Y = (np.array(train_X), np.array(train_Y))\n",
        "train_X = np.reshape(train_X, train_X.shape)\n",
        "\n",
        "test_X, test_Y = (np.array(test_X), np.array(test_Y))\n",
        "test_X = np.reshape(test_X, test_X.shape)\n",
        "\n",
        "val_X, val_Y = (np.array(val_X), np.array(val_Y))\n",
        "val_X = np.reshape(val_X, val_X.shape)\n",
        "\n",
        "print(train_X.shape)\n",
        "print(train_Y.shape)\n",
        "print(test_X.shape)\n",
        "print(test_Y.shape)\n",
        "print(val_X.shape)\n",
        "print(val_Y.shape)"
      ],
      "metadata": {
        "colab": {
          "base_uri": "https://localhost:8080/"
        },
        "id": "iLg0azdr2gzD",
        "outputId": "ec1e8da4-7a1e-4f39-dfa6-19e93e9a0ef8"
      },
      "execution_count": 452,
      "outputs": [
        {
          "output_type": "stream",
          "name": "stdout",
          "text": [
            "(903, 3, 2)\n",
            "(903,)\n",
            "(299, 3, 2)\n",
            "(299,)\n",
            "(299, 3, 2)\n",
            "(299,)\n"
          ]
        }
      ]
    },
    {
      "cell_type": "code",
      "source": [
        "train_X[0]"
      ],
      "metadata": {
        "colab": {
          "base_uri": "https://localhost:8080/"
        },
        "id": "y7L5Ghizo4Rt",
        "outputId": "67840fa2-5f70-4f40-8097-1d532fb084e6"
      },
      "execution_count": 453,
      "outputs": [
        {
          "output_type": "execute_result",
          "data": {
            "text/plain": [
              "array([[0.        , 0.50905029],\n",
              "       [0.00615535, 0.65068092],\n",
              "       [0.00605765, 0.54371247]])"
            ]
          },
          "metadata": {},
          "execution_count": 453
        }
      ]
    },
    {
      "cell_type": "code",
      "source": [
        "train_Y[0]"
      ],
      "metadata": {
        "colab": {
          "base_uri": "https://localhost:8080/"
        },
        "id": "nFIY8790oa72",
        "outputId": "c41f7a2a-9ae5-4981-8961-1f89cfcf4198"
      },
      "execution_count": 454,
      "outputs": [
        {
          "output_type": "execute_result",
          "data": {
            "text/plain": [
              "0.005520273571079648"
            ]
          },
          "metadata": {},
          "execution_count": 454
        }
      ]
    },
    {
      "cell_type": "code",
      "source": [
        "val = np.array(train_Y[0])\n",
        "val = np.c_[val, np.zeros(val.shape)]"
      ],
      "metadata": {
        "id": "4DJQqqKIo9DT"
      },
      "execution_count": 455,
      "outputs": []
    },
    {
      "cell_type": "code",
      "source": [
        "scaler.inverse_transform(val)"
      ],
      "metadata": {
        "colab": {
          "base_uri": "https://localhost:8080/"
        },
        "id": "Mfo3peDxpLWL",
        "outputId": "04e2a5f6-6188-4502-d89b-035b8d60e6af"
      },
      "execution_count": 456,
      "outputs": [
        {
          "output_type": "execute_result",
          "data": {
            "text/plain": [
              "array([[41.42      , -0.15945339]])"
            ]
          },
          "metadata": {},
          "execution_count": 456
        }
      ]
    },
    {
      "cell_type": "code",
      "source": [
        "from keras.models import Sequential\n",
        "from keras import layers, regularizers\n",
        "from keras.layers import LSTM, Dense, Dropout\n",
        "model = Sequential()\n",
        "model.add(LSTM(4, activation = 'selu', kernel_initializer = 'lecun_normal', \n",
        "               input_shape=(train_X.shape[1], train_X.shape[2]), input_dim = train_Y.shape[0]))\n",
        "model.add(Dense(1))\n",
        "model.compile(optimizer='adam', loss='mean_squared_error')\n",
        "history = model.fit(train_X, train_Y, epochs=100, validation_data = (val_X, val_Y), batch_size=20, verbose=1)"
      ],
      "metadata": {
        "colab": {
          "base_uri": "https://localhost:8080/"
        },
        "id": "dty-rW0q7Erv",
        "outputId": "93ab5335-e81d-424f-9c66-1fdbed0d2664"
      },
      "execution_count": 473,
      "outputs": [
        {
          "output_type": "stream",
          "name": "stdout",
          "text": [
            "Epoch 1/100\n",
            "46/46 [==============================] - 2s 11ms/step - loss: 0.1169 - val_loss: 1.1357\n",
            "Epoch 2/100\n",
            "46/46 [==============================] - 0s 4ms/step - loss: 0.0227 - val_loss: 0.7432\n",
            "Epoch 3/100\n",
            "46/46 [==============================] - 0s 5ms/step - loss: 0.0153 - val_loss: 0.6569\n",
            "Epoch 4/100\n",
            "46/46 [==============================] - 0s 4ms/step - loss: 0.0134 - val_loss: 0.5853\n",
            "Epoch 5/100\n",
            "46/46 [==============================] - 0s 5ms/step - loss: 0.0117 - val_loss: 0.5178\n",
            "Epoch 6/100\n",
            "46/46 [==============================] - 0s 4ms/step - loss: 0.0100 - val_loss: 0.4666\n",
            "Epoch 7/100\n",
            "46/46 [==============================] - 0s 4ms/step - loss: 0.0085 - val_loss: 0.4174\n",
            "Epoch 8/100\n",
            "46/46 [==============================] - 0s 5ms/step - loss: 0.0070 - val_loss: 0.3640\n",
            "Epoch 9/100\n",
            "46/46 [==============================] - 0s 5ms/step - loss: 0.0057 - val_loss: 0.3238\n",
            "Epoch 10/100\n",
            "46/46 [==============================] - 0s 5ms/step - loss: 0.0046 - val_loss: 0.2887\n",
            "Epoch 11/100\n",
            "46/46 [==============================] - 0s 5ms/step - loss: 0.0035 - val_loss: 0.2496\n",
            "Epoch 12/100\n",
            "46/46 [==============================] - 0s 5ms/step - loss: 0.0026 - val_loss: 0.2192\n",
            "Epoch 13/100\n",
            "46/46 [==============================] - 0s 5ms/step - loss: 0.0019 - val_loss: 0.1900\n",
            "Epoch 14/100\n",
            "46/46 [==============================] - 0s 4ms/step - loss: 0.0013 - val_loss: 0.1624\n",
            "Epoch 15/100\n",
            "46/46 [==============================] - 0s 4ms/step - loss: 8.2406e-04 - val_loss: 0.1431\n",
            "Epoch 16/100\n",
            "46/46 [==============================] - 0s 4ms/step - loss: 5.2246e-04 - val_loss: 0.1240\n",
            "Epoch 17/100\n",
            "46/46 [==============================] - 0s 4ms/step - loss: 3.2530e-04 - val_loss: 0.1095\n",
            "Epoch 18/100\n",
            "46/46 [==============================] - 0s 5ms/step - loss: 2.1662e-04 - val_loss: 0.0981\n",
            "Epoch 19/100\n",
            "46/46 [==============================] - 0s 4ms/step - loss: 1.6738e-04 - val_loss: 0.0930\n",
            "Epoch 20/100\n",
            "46/46 [==============================] - 0s 5ms/step - loss: 1.4069e-04 - val_loss: 0.0877\n",
            "Epoch 21/100\n",
            "46/46 [==============================] - 0s 4ms/step - loss: 1.2986e-04 - val_loss: 0.0847\n",
            "Epoch 22/100\n",
            "46/46 [==============================] - 0s 4ms/step - loss: 1.2415e-04 - val_loss: 0.0829\n",
            "Epoch 23/100\n",
            "46/46 [==============================] - 0s 5ms/step - loss: 1.2133e-04 - val_loss: 0.0817\n",
            "Epoch 24/100\n",
            "46/46 [==============================] - 0s 6ms/step - loss: 1.1874e-04 - val_loss: 0.0803\n",
            "Epoch 25/100\n",
            "46/46 [==============================] - 0s 4ms/step - loss: 1.1725e-04 - val_loss: 0.0805\n",
            "Epoch 26/100\n",
            "46/46 [==============================] - 0s 4ms/step - loss: 1.1494e-04 - val_loss: 0.0801\n",
            "Epoch 27/100\n",
            "46/46 [==============================] - 0s 4ms/step - loss: 1.1259e-04 - val_loss: 0.0793\n",
            "Epoch 28/100\n",
            "46/46 [==============================] - 0s 4ms/step - loss: 1.1258e-04 - val_loss: 0.0796\n",
            "Epoch 29/100\n",
            "46/46 [==============================] - 0s 5ms/step - loss: 1.0933e-04 - val_loss: 0.0793\n",
            "Epoch 30/100\n",
            "46/46 [==============================] - 0s 5ms/step - loss: 1.0998e-04 - val_loss: 0.0801\n",
            "Epoch 31/100\n",
            "46/46 [==============================] - 0s 4ms/step - loss: 1.0632e-04 - val_loss: 0.0788\n",
            "Epoch 32/100\n",
            "46/46 [==============================] - 0s 5ms/step - loss: 1.0321e-04 - val_loss: 0.0784\n",
            "Epoch 33/100\n",
            "46/46 [==============================] - 0s 5ms/step - loss: 1.0141e-04 - val_loss: 0.0779\n",
            "Epoch 34/100\n",
            "46/46 [==============================] - 0s 5ms/step - loss: 9.9104e-05 - val_loss: 0.0767\n",
            "Epoch 35/100\n",
            "46/46 [==============================] - 0s 5ms/step - loss: 9.9067e-05 - val_loss: 0.0769\n",
            "Epoch 36/100\n",
            "46/46 [==============================] - 0s 5ms/step - loss: 9.5243e-05 - val_loss: 0.0771\n",
            "Epoch 37/100\n",
            "46/46 [==============================] - 0s 5ms/step - loss: 9.4924e-05 - val_loss: 0.0764\n",
            "Epoch 38/100\n",
            "46/46 [==============================] - 0s 5ms/step - loss: 9.2143e-05 - val_loss: 0.0768\n",
            "Epoch 39/100\n",
            "46/46 [==============================] - 0s 4ms/step - loss: 9.1522e-05 - val_loss: 0.0748\n",
            "Epoch 40/100\n",
            "46/46 [==============================] - 0s 4ms/step - loss: 8.8277e-05 - val_loss: 0.0745\n",
            "Epoch 41/100\n",
            "46/46 [==============================] - 0s 5ms/step - loss: 8.5518e-05 - val_loss: 0.0759\n",
            "Epoch 42/100\n",
            "46/46 [==============================] - 0s 4ms/step - loss: 8.6723e-05 - val_loss: 0.0749\n",
            "Epoch 43/100\n",
            "46/46 [==============================] - 0s 4ms/step - loss: 8.3085e-05 - val_loss: 0.0736\n",
            "Epoch 44/100\n",
            "46/46 [==============================] - 0s 4ms/step - loss: 8.1379e-05 - val_loss: 0.0736\n",
            "Epoch 45/100\n",
            "46/46 [==============================] - 0s 5ms/step - loss: 7.8847e-05 - val_loss: 0.0727\n",
            "Epoch 46/100\n",
            "46/46 [==============================] - 0s 4ms/step - loss: 7.6758e-05 - val_loss: 0.0732\n",
            "Epoch 47/100\n",
            "46/46 [==============================] - 0s 4ms/step - loss: 7.5370e-05 - val_loss: 0.0719\n",
            "Epoch 48/100\n",
            "46/46 [==============================] - 0s 4ms/step - loss: 7.3239e-05 - val_loss: 0.0722\n",
            "Epoch 49/100\n",
            "46/46 [==============================] - 0s 4ms/step - loss: 7.3113e-05 - val_loss: 0.0714\n",
            "Epoch 50/100\n",
            "46/46 [==============================] - 0s 4ms/step - loss: 7.1353e-05 - val_loss: 0.0720\n",
            "Epoch 51/100\n",
            "46/46 [==============================] - 0s 4ms/step - loss: 6.9637e-05 - val_loss: 0.0708\n",
            "Epoch 52/100\n",
            "46/46 [==============================] - 0s 4ms/step - loss: 6.7999e-05 - val_loss: 0.0704\n",
            "Epoch 53/100\n",
            "46/46 [==============================] - 0s 5ms/step - loss: 6.7276e-05 - val_loss: 0.0701\n",
            "Epoch 54/100\n",
            "46/46 [==============================] - 0s 4ms/step - loss: 6.5003e-05 - val_loss: 0.0704\n",
            "Epoch 55/100\n",
            "46/46 [==============================] - 0s 4ms/step - loss: 6.3307e-05 - val_loss: 0.0697\n",
            "Epoch 56/100\n",
            "46/46 [==============================] - 0s 5ms/step - loss: 6.3567e-05 - val_loss: 0.0691\n",
            "Epoch 57/100\n",
            "46/46 [==============================] - 0s 4ms/step - loss: 6.0547e-05 - val_loss: 0.0694\n",
            "Epoch 58/100\n",
            "46/46 [==============================] - 0s 5ms/step - loss: 5.9546e-05 - val_loss: 0.0682\n",
            "Epoch 59/100\n",
            "46/46 [==============================] - 0s 4ms/step - loss: 5.9076e-05 - val_loss: 0.0690\n",
            "Epoch 60/100\n",
            "46/46 [==============================] - 0s 4ms/step - loss: 5.7390e-05 - val_loss: 0.0673\n",
            "Epoch 61/100\n",
            "46/46 [==============================] - 0s 4ms/step - loss: 5.8168e-05 - val_loss: 0.0680\n",
            "Epoch 62/100\n",
            "46/46 [==============================] - 0s 5ms/step - loss: 5.5934e-05 - val_loss: 0.0680\n",
            "Epoch 63/100\n",
            "46/46 [==============================] - 0s 5ms/step - loss: 5.4338e-05 - val_loss: 0.0674\n",
            "Epoch 64/100\n",
            "46/46 [==============================] - 0s 5ms/step - loss: 5.3391e-05 - val_loss: 0.0668\n",
            "Epoch 65/100\n",
            "46/46 [==============================] - 0s 5ms/step - loss: 5.3740e-05 - val_loss: 0.0673\n",
            "Epoch 66/100\n",
            "46/46 [==============================] - 0s 5ms/step - loss: 5.1139e-05 - val_loss: 0.0664\n",
            "Epoch 67/100\n",
            "46/46 [==============================] - 0s 5ms/step - loss: 5.0363e-05 - val_loss: 0.0660\n",
            "Epoch 68/100\n",
            "46/46 [==============================] - 0s 4ms/step - loss: 4.9841e-05 - val_loss: 0.0651\n",
            "Epoch 69/100\n",
            "46/46 [==============================] - 0s 4ms/step - loss: 4.9326e-05 - val_loss: 0.0662\n",
            "Epoch 70/100\n",
            "46/46 [==============================] - 0s 4ms/step - loss: 5.1824e-05 - val_loss: 0.0657\n",
            "Epoch 71/100\n",
            "46/46 [==============================] - 0s 4ms/step - loss: 4.7453e-05 - val_loss: 0.0652\n",
            "Epoch 72/100\n",
            "46/46 [==============================] - 0s 5ms/step - loss: 4.6817e-05 - val_loss: 0.0657\n",
            "Epoch 73/100\n",
            "46/46 [==============================] - 0s 4ms/step - loss: 4.6335e-05 - val_loss: 0.0646\n",
            "Epoch 74/100\n",
            "46/46 [==============================] - 0s 4ms/step - loss: 4.6012e-05 - val_loss: 0.0644\n",
            "Epoch 75/100\n",
            "46/46 [==============================] - 0s 5ms/step - loss: 4.6628e-05 - val_loss: 0.0663\n",
            "Epoch 76/100\n",
            "46/46 [==============================] - 0s 4ms/step - loss: 4.4970e-05 - val_loss: 0.0654\n",
            "Epoch 77/100\n",
            "46/46 [==============================] - 0s 5ms/step - loss: 4.4494e-05 - val_loss: 0.0645\n",
            "Epoch 78/100\n",
            "46/46 [==============================] - 0s 5ms/step - loss: 4.2565e-05 - val_loss: 0.0652\n",
            "Epoch 79/100\n",
            "46/46 [==============================] - 0s 4ms/step - loss: 4.2193e-05 - val_loss: 0.0652\n",
            "Epoch 80/100\n",
            "46/46 [==============================] - 0s 5ms/step - loss: 4.2478e-05 - val_loss: 0.0645\n",
            "Epoch 81/100\n",
            "46/46 [==============================] - 0s 4ms/step - loss: 4.4330e-05 - val_loss: 0.0647\n",
            "Epoch 82/100\n",
            "46/46 [==============================] - 0s 5ms/step - loss: 4.1525e-05 - val_loss: 0.0645\n",
            "Epoch 83/100\n",
            "46/46 [==============================] - 0s 5ms/step - loss: 4.2719e-05 - val_loss: 0.0657\n",
            "Epoch 84/100\n",
            "46/46 [==============================] - 0s 4ms/step - loss: 4.0654e-05 - val_loss: 0.0646\n",
            "Epoch 85/100\n",
            "46/46 [==============================] - 0s 4ms/step - loss: 4.0027e-05 - val_loss: 0.0653\n",
            "Epoch 86/100\n",
            "46/46 [==============================] - 0s 5ms/step - loss: 3.9560e-05 - val_loss: 0.0649\n",
            "Epoch 87/100\n",
            "46/46 [==============================] - 0s 6ms/step - loss: 3.9302e-05 - val_loss: 0.0643\n",
            "Epoch 88/100\n",
            "46/46 [==============================] - 0s 5ms/step - loss: 3.8968e-05 - val_loss: 0.0653\n",
            "Epoch 89/100\n",
            "46/46 [==============================] - 0s 5ms/step - loss: 4.1067e-05 - val_loss: 0.0646\n",
            "Epoch 90/100\n",
            "46/46 [==============================] - 0s 4ms/step - loss: 4.0800e-05 - val_loss: 0.0645\n",
            "Epoch 91/100\n",
            "46/46 [==============================] - 0s 4ms/step - loss: 3.8352e-05 - val_loss: 0.0655\n",
            "Epoch 92/100\n",
            "46/46 [==============================] - 0s 5ms/step - loss: 3.8675e-05 - val_loss: 0.0653\n",
            "Epoch 93/100\n",
            "46/46 [==============================] - 0s 5ms/step - loss: 4.1681e-05 - val_loss: 0.0654\n",
            "Epoch 94/100\n",
            "46/46 [==============================] - 0s 5ms/step - loss: 3.7353e-05 - val_loss: 0.0644\n",
            "Epoch 95/100\n",
            "46/46 [==============================] - 0s 4ms/step - loss: 3.8666e-05 - val_loss: 0.0652\n",
            "Epoch 96/100\n",
            "46/46 [==============================] - 0s 5ms/step - loss: 3.6748e-05 - val_loss: 0.0643\n",
            "Epoch 97/100\n",
            "46/46 [==============================] - 0s 4ms/step - loss: 3.6791e-05 - val_loss: 0.0650\n",
            "Epoch 98/100\n",
            "46/46 [==============================] - 0s 4ms/step - loss: 3.5976e-05 - val_loss: 0.0646\n",
            "Epoch 99/100\n",
            "46/46 [==============================] - 0s 5ms/step - loss: 3.5962e-05 - val_loss: 0.0647\n",
            "Epoch 100/100\n",
            "46/46 [==============================] - 0s 4ms/step - loss: 3.7828e-05 - val_loss: 0.0636\n"
          ]
        }
      ]
    },
    {
      "cell_type": "code",
      "source": [
        "pred_train = model.predict(train_X)\n",
        "pred_train = np.c_[pred_train, np.zeros(pred_train.shape)]\n",
        "pred_test = model.predict(test_X)\n",
        "pred_test = np.c_[pred_test, np.zeros(pred_test.shape)]\n",
        "# invert predictions\n",
        "pred_train = scaler.inverse_transform(pred_train)\n",
        "pred_train = [pred[0] for pred in pred_train]\n",
        "pred_test = scaler.inverse_transform(pred_test)\n",
        "pred_test = [pred[0] for pred in pred_test]\n",
        "\n",
        "print('pred_train: ', pred_train[:5])\n",
        "print('pred_test:  ', pred_test[:5])"
      ],
      "metadata": {
        "id": "B8s6SuQiJRay"
      },
      "execution_count": null,
      "outputs": []
    },
    {
      "cell_type": "code",
      "source": [
        "pred_train = model.predict(train_X)\n",
        "scores = model.evaluate(train_X, train_Y, verbose=0)\n",
        "print('Accuracy on training data: ', scores)\n",
        "\n",
        "pred_test = model.predict(test_X)\n",
        "scores2 = model.evaluate(test_X, test_Y, verbose=0)\n",
        "print('Accuracy on testing data: ', scores2)"
      ],
      "metadata": {
        "id": "25MY0UNKJUoV"
      },
      "execution_count": null,
      "outputs": []
    }
  ]
}